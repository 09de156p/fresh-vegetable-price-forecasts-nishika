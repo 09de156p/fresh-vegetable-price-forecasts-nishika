{
 "cells": [
  {
   "cell_type": "markdown",
   "id": "f712056d",
   "metadata": {},
   "source": [
    "# データの読み込み"
   ]
  },
  {
   "cell_type": "code",
   "execution_count": 1,
   "id": "3a89f412",
   "metadata": {},
   "outputs": [],
   "source": [
    "import pandas as pd"
   ]
  },
  {
   "cell_type": "code",
   "execution_count": 2,
   "id": "fe036305",
   "metadata": {},
   "outputs": [],
   "source": [
    "import numpy as np"
   ]
  },
  {
   "cell_type": "code",
   "execution_count": 3,
   "id": "f813098c",
   "metadata": {},
   "outputs": [],
   "source": [
    "import matplotlib.pyplot as plt\n",
    "import japanize_matplotlib"
   ]
  },
  {
   "cell_type": "code",
   "execution_count": 4,
   "id": "1b4cbc6d",
   "metadata": {},
   "outputs": [
    {
     "data": {
      "text/plain": [
       "<function seaborn.rcmod.set(*args, **kwargs)>"
      ]
     },
     "execution_count": 4,
     "metadata": {},
     "output_type": "execute_result"
    }
   ],
   "source": [
    "import seaborn as sns\n",
    "sns.set"
   ]
  },
  {
   "cell_type": "code",
   "execution_count": 5,
   "id": "c32c5e1b",
   "metadata": {},
   "outputs": [],
   "source": [
    "import datetime"
   ]
  },
  {
   "cell_type": "code",
   "execution_count": 6,
   "id": "f06ca726",
   "metadata": {},
   "outputs": [
    {
     "data": {
      "text/html": [
       "<div>\n",
       "<style scoped>\n",
       "    .dataframe tbody tr th:only-of-type {\n",
       "        vertical-align: middle;\n",
       "    }\n",
       "\n",
       "    .dataframe tbody tr th {\n",
       "        vertical-align: top;\n",
       "    }\n",
       "\n",
       "    .dataframe thead th {\n",
       "        text-align: right;\n",
       "    }\n",
       "</style>\n",
       "<table border=\"1\" class=\"dataframe\">\n",
       "  <thead>\n",
       "    <tr style=\"text-align: right;\">\n",
       "      <th></th>\n",
       "      <th>ファイル名</th>\n",
       "      <th>内容</th>\n",
       "    </tr>\n",
       "  </thead>\n",
       "  <tbody>\n",
       "    <tr>\n",
       "      <th>0</th>\n",
       "      <td>train.csv</td>\n",
       "      <td>訓練用データ</td>\n",
       "    </tr>\n",
       "    <tr>\n",
       "      <th>1</th>\n",
       "      <td>test.csv</td>\n",
       "      <td>評価用データ</td>\n",
       "    </tr>\n",
       "    <tr>\n",
       "      <th>2</th>\n",
       "      <td>weather.csv</td>\n",
       "      <td>天候データ</td>\n",
       "    </tr>\n",
       "    <tr>\n",
       "      <th>3</th>\n",
       "      <td>sample_submission.csv</td>\n",
       "      <td>投稿データフォーマット</td>\n",
       "    </tr>\n",
       "  </tbody>\n",
       "</table>\n",
       "</div>"
      ],
      "text/plain": [
       "                   ファイル名           内容\n",
       "0              train.csv       訓練用データ\n",
       "1               test.csv       評価用データ\n",
       "2            weather.csv        天候データ\n",
       "3  sample_submission.csv  投稿データフォーマット"
      ]
     },
     "execution_count": 6,
     "metadata": {},
     "output_type": "execute_result"
    }
   ],
   "source": [
    "pd.read_excel('data_explanation.xlsx', sheet_name=0)"
   ]
  },
  {
   "cell_type": "code",
   "execution_count": 7,
   "id": "8fe8b513",
   "metadata": {},
   "outputs": [
    {
     "data": {
      "text/html": [
       "<div>\n",
       "<style scoped>\n",
       "    .dataframe tbody tr th:only-of-type {\n",
       "        vertical-align: middle;\n",
       "    }\n",
       "\n",
       "    .dataframe tbody tr th {\n",
       "        vertical-align: top;\n",
       "    }\n",
       "\n",
       "    .dataframe thead th {\n",
       "        text-align: right;\n",
       "    }\n",
       "</style>\n",
       "<table border=\"1\" class=\"dataframe\">\n",
       "  <thead>\n",
       "    <tr style=\"text-align: right;\">\n",
       "      <th></th>\n",
       "      <th>ファイル名</th>\n",
       "      <th>カラム名</th>\n",
       "      <th>内容</th>\n",
       "    </tr>\n",
       "  </thead>\n",
       "  <tbody>\n",
       "    <tr>\n",
       "      <th>0</th>\n",
       "      <td>train.csv</td>\n",
       "      <td>kind</td>\n",
       "      <td>野菜の種類</td>\n",
       "    </tr>\n",
       "    <tr>\n",
       "      <th>1</th>\n",
       "      <td>NaN</td>\n",
       "      <td>date</td>\n",
       "      <td>日付</td>\n",
       "    </tr>\n",
       "    <tr>\n",
       "      <th>2</th>\n",
       "      <td>NaN</td>\n",
       "      <td>amount</td>\n",
       "      <td>卸売数量合計（合計の意味は、複数産地のものがあればその合計をとっているの意味）</td>\n",
       "    </tr>\n",
       "    <tr>\n",
       "      <th>3</th>\n",
       "      <td>NaN</td>\n",
       "      <td>mode_price</td>\n",
       "      <td>卸売価格中央値（中央値の意味は、複数産地のものがあればその中央値をとっているの意味）</td>\n",
       "    </tr>\n",
       "    <tr>\n",
       "      <th>4</th>\n",
       "      <td>NaN</td>\n",
       "      <td>area</td>\n",
       "      <td>産地。複数産地のものが売られていた場合は\"_\"で結合</td>\n",
       "    </tr>\n",
       "    <tr>\n",
       "      <th>5</th>\n",
       "      <td>test.csv</td>\n",
       "      <td>kind</td>\n",
       "      <td>野菜の種類</td>\n",
       "    </tr>\n",
       "    <tr>\n",
       "      <th>6</th>\n",
       "      <td>NaN</td>\n",
       "      <td>date</td>\n",
       "      <td>日付</td>\n",
       "    </tr>\n",
       "    <tr>\n",
       "      <th>7</th>\n",
       "      <td>NaN</td>\n",
       "      <td>area</td>\n",
       "      <td>産地。複数産地のものが売られていた場合は\"_\"で結合</td>\n",
       "    </tr>\n",
       "    <tr>\n",
       "      <th>8</th>\n",
       "      <td>weather.csv</td>\n",
       "      <td>date</td>\n",
       "      <td>日付</td>\n",
       "    </tr>\n",
       "    <tr>\n",
       "      <th>9</th>\n",
       "      <td>NaN</td>\n",
       "      <td>mean_temp</td>\n",
       "      <td>平均気温（℃）</td>\n",
       "    </tr>\n",
       "    <tr>\n",
       "      <th>10</th>\n",
       "      <td>NaN</td>\n",
       "      <td>max_temp</td>\n",
       "      <td>最高気温（℃）</td>\n",
       "    </tr>\n",
       "    <tr>\n",
       "      <th>11</th>\n",
       "      <td>NaN</td>\n",
       "      <td>max_temp_time</td>\n",
       "      <td>最高気温（℃）（時分）</td>\n",
       "    </tr>\n",
       "    <tr>\n",
       "      <th>12</th>\n",
       "      <td>NaN</td>\n",
       "      <td>min_temp</td>\n",
       "      <td>最低気温（℃）</td>\n",
       "    </tr>\n",
       "    <tr>\n",
       "      <th>13</th>\n",
       "      <td>NaN</td>\n",
       "      <td>min_temp_time</td>\n",
       "      <td>最低気温（℃）（時分）</td>\n",
       "    </tr>\n",
       "    <tr>\n",
       "      <th>14</th>\n",
       "      <td>NaN</td>\n",
       "      <td>sum_rain</td>\n",
       "      <td>降水量合計（mm）</td>\n",
       "    </tr>\n",
       "    <tr>\n",
       "      <th>15</th>\n",
       "      <td>NaN</td>\n",
       "      <td>sun_time</td>\n",
       "      <td>日照時間（時間）</td>\n",
       "    </tr>\n",
       "    <tr>\n",
       "      <th>16</th>\n",
       "      <td>NaN</td>\n",
       "      <td>mean_humid</td>\n",
       "      <td>平均湿度（%）</td>\n",
       "    </tr>\n",
       "    <tr>\n",
       "      <th>17</th>\n",
       "      <td>NaN</td>\n",
       "      <td>area</td>\n",
       "      <td>エリア</td>\n",
       "    </tr>\n",
       "  </tbody>\n",
       "</table>\n",
       "</div>"
      ],
      "text/plain": [
       "          ファイル名           カラム名                                          内容\n",
       "0     train.csv           kind                                       野菜の種類\n",
       "1           NaN           date                                          日付\n",
       "2           NaN         amount     卸売数量合計（合計の意味は、複数産地のものがあればその合計をとっているの意味）\n",
       "3           NaN     mode_price  卸売価格中央値（中央値の意味は、複数産地のものがあればその中央値をとっているの意味）\n",
       "4           NaN           area                  産地。複数産地のものが売られていた場合は\"_\"で結合\n",
       "5      test.csv           kind                                       野菜の種類\n",
       "6           NaN           date                                          日付\n",
       "7           NaN           area                  産地。複数産地のものが売られていた場合は\"_\"で結合\n",
       "8   weather.csv           date                                          日付\n",
       "9           NaN      mean_temp                                     平均気温（℃）\n",
       "10          NaN       max_temp                                     最高気温（℃）\n",
       "11          NaN  max_temp_time                                 最高気温（℃）（時分）\n",
       "12          NaN       min_temp                                     最低気温（℃）\n",
       "13          NaN  min_temp_time                                 最低気温（℃）（時分）\n",
       "14          NaN       sum_rain                                   降水量合計（mm）\n",
       "15          NaN       sun_time                                    日照時間（時間）\n",
       "16          NaN     mean_humid                                     平均湿度（%）\n",
       "17          NaN           area                                         エリア"
      ]
     },
     "execution_count": 7,
     "metadata": {},
     "output_type": "execute_result"
    }
   ],
   "source": [
    "pd.read_excel('data_explanation.xlsx', sheet_name=1)"
   ]
  },
  {
   "cell_type": "code",
   "execution_count": 8,
   "id": "d9863387",
   "metadata": {},
   "outputs": [
    {
     "name": "stdout",
     "output_type": "stream",
     "text": [
      "['データ説明', '\\u3000カラム説明']\n"
     ]
    }
   ],
   "source": [
    "import openpyxl\n",
    "data_exp = openpyxl.load_workbook('data_explanation.xlsx')\n",
    "print(data_exp.sheetnames)"
   ]
  },
  {
   "cell_type": "code",
   "execution_count": 9,
   "id": "5407f5d5",
   "metadata": {},
   "outputs": [
    {
     "data": {
      "text/plain": [
       "<Worksheet \"データ説明\">"
      ]
     },
     "execution_count": 9,
     "metadata": {},
     "output_type": "execute_result"
    }
   ],
   "source": [
    "data_exp[data_exp.sheetnames[0]]"
   ]
  },
  {
   "cell_type": "code",
   "execution_count": 10,
   "id": "282e267e",
   "metadata": {},
   "outputs": [
    {
     "data": {
      "text/html": [
       "<div>\n",
       "<style scoped>\n",
       "    .dataframe tbody tr th:only-of-type {\n",
       "        vertical-align: middle;\n",
       "    }\n",
       "\n",
       "    .dataframe tbody tr th {\n",
       "        vertical-align: top;\n",
       "    }\n",
       "\n",
       "    .dataframe thead th {\n",
       "        text-align: right;\n",
       "    }\n",
       "</style>\n",
       "<table border=\"1\" class=\"dataframe\">\n",
       "  <thead>\n",
       "    <tr style=\"text-align: right;\">\n",
       "      <th></th>\n",
       "      <th>kind</th>\n",
       "      <th>date</th>\n",
       "      <th>amount</th>\n",
       "      <th>mode_price</th>\n",
       "      <th>area</th>\n",
       "    </tr>\n",
       "  </thead>\n",
       "  <tbody>\n",
       "    <tr>\n",
       "      <th>0</th>\n",
       "      <td>だいこん</td>\n",
       "      <td>20051107</td>\n",
       "      <td>201445</td>\n",
       "      <td>735.0</td>\n",
       "      <td>千葉</td>\n",
       "    </tr>\n",
       "    <tr>\n",
       "      <th>1</th>\n",
       "      <td>だいこん</td>\n",
       "      <td>20051108</td>\n",
       "      <td>189660</td>\n",
       "      <td>840.0</td>\n",
       "      <td>千葉_各地_青森</td>\n",
       "    </tr>\n",
       "    <tr>\n",
       "      <th>2</th>\n",
       "      <td>だいこん</td>\n",
       "      <td>20051110</td>\n",
       "      <td>218166</td>\n",
       "      <td>735.0</td>\n",
       "      <td>千葉_各地_青森</td>\n",
       "    </tr>\n",
       "    <tr>\n",
       "      <th>3</th>\n",
       "      <td>だいこん</td>\n",
       "      <td>20051111</td>\n",
       "      <td>182624</td>\n",
       "      <td>682.5</td>\n",
       "      <td>千葉_青森</td>\n",
       "    </tr>\n",
       "    <tr>\n",
       "      <th>4</th>\n",
       "      <td>だいこん</td>\n",
       "      <td>20051112</td>\n",
       "      <td>220691</td>\n",
       "      <td>682.5</td>\n",
       "      <td>千葉_青森</td>\n",
       "    </tr>\n",
       "    <tr>\n",
       "      <th>...</th>\n",
       "      <td>...</td>\n",
       "      <td>...</td>\n",
       "      <td>...</td>\n",
       "      <td>...</td>\n",
       "      <td>...</td>\n",
       "    </tr>\n",
       "    <tr>\n",
       "      <th>97777</th>\n",
       "      <td>しめじ</td>\n",
       "      <td>20170526</td>\n",
       "      <td>17231</td>\n",
       "      <td>48.5</td>\n",
       "      <td>新潟_長野</td>\n",
       "    </tr>\n",
       "    <tr>\n",
       "      <th>97778</th>\n",
       "      <td>しめじ</td>\n",
       "      <td>20170527</td>\n",
       "      <td>17105</td>\n",
       "      <td>48.5</td>\n",
       "      <td>新潟_長野</td>\n",
       "    </tr>\n",
       "    <tr>\n",
       "      <th>97779</th>\n",
       "      <td>しめじ</td>\n",
       "      <td>20170529</td>\n",
       "      <td>12406</td>\n",
       "      <td>48.5</td>\n",
       "      <td>新潟_長野</td>\n",
       "    </tr>\n",
       "    <tr>\n",
       "      <th>97780</th>\n",
       "      <td>しめじ</td>\n",
       "      <td>20170530</td>\n",
       "      <td>12320</td>\n",
       "      <td>48.5</td>\n",
       "      <td>新潟_長野</td>\n",
       "    </tr>\n",
       "    <tr>\n",
       "      <th>97781</th>\n",
       "      <td>しめじ</td>\n",
       "      <td>20170531</td>\n",
       "      <td>11635</td>\n",
       "      <td>43.0</td>\n",
       "      <td>新潟_長野</td>\n",
       "    </tr>\n",
       "  </tbody>\n",
       "</table>\n",
       "<p>97782 rows × 5 columns</p>\n",
       "</div>"
      ],
      "text/plain": [
       "       kind      date  amount  mode_price      area\n",
       "0      だいこん  20051107  201445       735.0        千葉\n",
       "1      だいこん  20051108  189660       840.0  千葉_各地_青森\n",
       "2      だいこん  20051110  218166       735.0  千葉_各地_青森\n",
       "3      だいこん  20051111  182624       682.5     千葉_青森\n",
       "4      だいこん  20051112  220691       682.5     千葉_青森\n",
       "...     ...       ...     ...         ...       ...\n",
       "97777   しめじ  20170526   17231        48.5     新潟_長野\n",
       "97778   しめじ  20170527   17105        48.5     新潟_長野\n",
       "97779   しめじ  20170529   12406        48.5     新潟_長野\n",
       "97780   しめじ  20170530   12320        48.5     新潟_長野\n",
       "97781   しめじ  20170531   11635        43.0     新潟_長野\n",
       "\n",
       "[97782 rows x 5 columns]"
      ]
     },
     "execution_count": 10,
     "metadata": {},
     "output_type": "execute_result"
    }
   ],
   "source": [
    "train_raw = pd.read_csv('train.csv')\n",
    "train_raw"
   ]
  },
  {
   "cell_type": "code",
   "execution_count": 11,
   "id": "a74f4e43",
   "metadata": {},
   "outputs": [
    {
     "data": {
      "text/html": [
       "<div>\n",
       "<style scoped>\n",
       "    .dataframe tbody tr th:only-of-type {\n",
       "        vertical-align: middle;\n",
       "    }\n",
       "\n",
       "    .dataframe tbody tr th {\n",
       "        vertical-align: top;\n",
       "    }\n",
       "\n",
       "    .dataframe thead th {\n",
       "        text-align: right;\n",
       "    }\n",
       "</style>\n",
       "<table border=\"1\" class=\"dataframe\">\n",
       "  <thead>\n",
       "    <tr style=\"text-align: right;\">\n",
       "      <th></th>\n",
       "      <th>kind</th>\n",
       "      <th>date</th>\n",
       "      <th>area</th>\n",
       "    </tr>\n",
       "  </thead>\n",
       "  <tbody>\n",
       "    <tr>\n",
       "      <th>0</th>\n",
       "      <td>だいこん</td>\n",
       "      <td>20220502</td>\n",
       "      <td>千葉_各地_青森</td>\n",
       "    </tr>\n",
       "    <tr>\n",
       "      <th>1</th>\n",
       "      <td>だいこん</td>\n",
       "      <td>20220506</td>\n",
       "      <td>千葉_各地_青森</td>\n",
       "    </tr>\n",
       "    <tr>\n",
       "      <th>2</th>\n",
       "      <td>だいこん</td>\n",
       "      <td>20220507</td>\n",
       "      <td>千葉_各地_青森</td>\n",
       "    </tr>\n",
       "    <tr>\n",
       "      <th>3</th>\n",
       "      <td>だいこん</td>\n",
       "      <td>20220509</td>\n",
       "      <td>千葉_各地_青森</td>\n",
       "    </tr>\n",
       "    <tr>\n",
       "      <th>4</th>\n",
       "      <td>だいこん</td>\n",
       "      <td>20220510</td>\n",
       "      <td>千葉_各地_青森</td>\n",
       "    </tr>\n",
       "    <tr>\n",
       "      <th>...</th>\n",
       "      <td>...</td>\n",
       "      <td>...</td>\n",
       "      <td>...</td>\n",
       "    </tr>\n",
       "    <tr>\n",
       "      <th>315</th>\n",
       "      <td>ミニトマト</td>\n",
       "      <td>20220526</td>\n",
       "      <td>各地_愛知</td>\n",
       "    </tr>\n",
       "    <tr>\n",
       "      <th>316</th>\n",
       "      <td>ミニトマト</td>\n",
       "      <td>20220527</td>\n",
       "      <td>各地_愛知</td>\n",
       "    </tr>\n",
       "    <tr>\n",
       "      <th>317</th>\n",
       "      <td>ミニトマト</td>\n",
       "      <td>20220528</td>\n",
       "      <td>各地_愛知</td>\n",
       "    </tr>\n",
       "    <tr>\n",
       "      <th>318</th>\n",
       "      <td>ミニトマト</td>\n",
       "      <td>20220530</td>\n",
       "      <td>各地_愛知</td>\n",
       "    </tr>\n",
       "    <tr>\n",
       "      <th>319</th>\n",
       "      <td>ミニトマト</td>\n",
       "      <td>20220531</td>\n",
       "      <td>各地_愛知</td>\n",
       "    </tr>\n",
       "  </tbody>\n",
       "</table>\n",
       "<p>320 rows × 3 columns</p>\n",
       "</div>"
      ],
      "text/plain": [
       "      kind      date      area\n",
       "0     だいこん  20220502  千葉_各地_青森\n",
       "1     だいこん  20220506  千葉_各地_青森\n",
       "2     だいこん  20220507  千葉_各地_青森\n",
       "3     だいこん  20220509  千葉_各地_青森\n",
       "4     だいこん  20220510  千葉_各地_青森\n",
       "..     ...       ...       ...\n",
       "315  ミニトマト  20220526     各地_愛知\n",
       "316  ミニトマト  20220527     各地_愛知\n",
       "317  ミニトマト  20220528     各地_愛知\n",
       "318  ミニトマト  20220530     各地_愛知\n",
       "319  ミニトマト  20220531     各地_愛知\n",
       "\n",
       "[320 rows x 3 columns]"
      ]
     },
     "execution_count": 11,
     "metadata": {},
     "output_type": "execute_result"
    }
   ],
   "source": [
    "test_raw = pd.read_csv('test.csv')\n",
    "test_raw"
   ]
  },
  {
   "cell_type": "code",
   "execution_count": 12,
   "id": "5c180e0e",
   "metadata": {},
   "outputs": [
    {
     "data": {
      "text/html": [
       "<div>\n",
       "<style scoped>\n",
       "    .dataframe tbody tr th:only-of-type {\n",
       "        vertical-align: middle;\n",
       "    }\n",
       "\n",
       "    .dataframe tbody tr th {\n",
       "        vertical-align: top;\n",
       "    }\n",
       "\n",
       "    .dataframe thead th {\n",
       "        text-align: right;\n",
       "    }\n",
       "</style>\n",
       "<table border=\"1\" class=\"dataframe\">\n",
       "  <thead>\n",
       "    <tr style=\"text-align: right;\">\n",
       "      <th></th>\n",
       "      <th>date</th>\n",
       "      <th>mean_temp</th>\n",
       "      <th>max_temp</th>\n",
       "      <th>max_temp_time</th>\n",
       "      <th>min_temp</th>\n",
       "      <th>min_temp_time</th>\n",
       "      <th>sum_rain</th>\n",
       "      <th>sun_time</th>\n",
       "      <th>mean_humid</th>\n",
       "      <th>area</th>\n",
       "    </tr>\n",
       "  </thead>\n",
       "  <tbody>\n",
       "    <tr>\n",
       "      <th>0</th>\n",
       "      <td>20041106</td>\n",
       "      <td>13.1</td>\n",
       "      <td>20.1</td>\n",
       "      <td>2004/11/6 12:50</td>\n",
       "      <td>8.1</td>\n",
       "      <td>2004/11/6 05:31</td>\n",
       "      <td>5.0</td>\n",
       "      <td>1.6</td>\n",
       "      <td>77.0</td>\n",
       "      <td>青森</td>\n",
       "    </tr>\n",
       "    <tr>\n",
       "      <th>1</th>\n",
       "      <td>20041107</td>\n",
       "      <td>9.6</td>\n",
       "      <td>12.5</td>\n",
       "      <td>2004/11/7 13:40</td>\n",
       "      <td>5.4</td>\n",
       "      <td>2004/11/7 22:17</td>\n",
       "      <td>0.0</td>\n",
       "      <td>4.1</td>\n",
       "      <td>63.0</td>\n",
       "      <td>青森</td>\n",
       "    </tr>\n",
       "    <tr>\n",
       "      <th>2</th>\n",
       "      <td>20041108</td>\n",
       "      <td>9.0</td>\n",
       "      <td>15.5</td>\n",
       "      <td>2004/11/8 12:51</td>\n",
       "      <td>3.2</td>\n",
       "      <td>2004/11/8 06:28</td>\n",
       "      <td>0.0</td>\n",
       "      <td>8.9</td>\n",
       "      <td>72.0</td>\n",
       "      <td>青森</td>\n",
       "    </tr>\n",
       "    <tr>\n",
       "      <th>3</th>\n",
       "      <td>20041109</td>\n",
       "      <td>12.2</td>\n",
       "      <td>17.7</td>\n",
       "      <td>2004/11/9 14:40</td>\n",
       "      <td>5.7</td>\n",
       "      <td>2004/11/9 02:49</td>\n",
       "      <td>1.5</td>\n",
       "      <td>1.2</td>\n",
       "      <td>85.0</td>\n",
       "      <td>青森</td>\n",
       "    </tr>\n",
       "    <tr>\n",
       "      <th>4</th>\n",
       "      <td>20041110</td>\n",
       "      <td>11.6</td>\n",
       "      <td>16.4</td>\n",
       "      <td>2004/11/10 14:42</td>\n",
       "      <td>6.9</td>\n",
       "      <td>2004/11/10 06:23</td>\n",
       "      <td>0.0</td>\n",
       "      <td>7.5</td>\n",
       "      <td>89.0</td>\n",
       "      <td>青森</td>\n",
       "    </tr>\n",
       "    <tr>\n",
       "      <th>...</th>\n",
       "      <td>...</td>\n",
       "      <td>...</td>\n",
       "      <td>...</td>\n",
       "      <td>...</td>\n",
       "      <td>...</td>\n",
       "      <td>...</td>\n",
       "      <td>...</td>\n",
       "      <td>...</td>\n",
       "      <td>...</td>\n",
       "      <td>...</td>\n",
       "    </tr>\n",
       "    <tr>\n",
       "      <th>204315</th>\n",
       "      <td>20220426</td>\n",
       "      <td>21.3</td>\n",
       "      <td>23.6</td>\n",
       "      <td>2022/4/26 14:27</td>\n",
       "      <td>17.9</td>\n",
       "      <td>2022/4/26 04:17</td>\n",
       "      <td>2.5</td>\n",
       "      <td>0.0</td>\n",
       "      <td>89.0</td>\n",
       "      <td>東京</td>\n",
       "    </tr>\n",
       "    <tr>\n",
       "      <th>204316</th>\n",
       "      <td>20220427</td>\n",
       "      <td>23.0</td>\n",
       "      <td>27.7</td>\n",
       "      <td>2022/4/27 13:12</td>\n",
       "      <td>18.9</td>\n",
       "      <td>2022/4/28 0:00</td>\n",
       "      <td>0.5</td>\n",
       "      <td>1.6</td>\n",
       "      <td>79.0</td>\n",
       "      <td>東京</td>\n",
       "    </tr>\n",
       "    <tr>\n",
       "      <th>204317</th>\n",
       "      <td>20220428</td>\n",
       "      <td>16.9</td>\n",
       "      <td>21.1</td>\n",
       "      <td>2022/4/28 15:03</td>\n",
       "      <td>14.2</td>\n",
       "      <td>2022/4/28 22:40</td>\n",
       "      <td>0.0</td>\n",
       "      <td>5.5</td>\n",
       "      <td>57.0</td>\n",
       "      <td>東京</td>\n",
       "    </tr>\n",
       "    <tr>\n",
       "      <th>204318</th>\n",
       "      <td>20220429</td>\n",
       "      <td>12.9</td>\n",
       "      <td>16.4</td>\n",
       "      <td>2022/4/29 09:21</td>\n",
       "      <td>9.0</td>\n",
       "      <td>2022/4/29 23:55</td>\n",
       "      <td>40.0</td>\n",
       "      <td>0.2</td>\n",
       "      <td>86.0</td>\n",
       "      <td>東京</td>\n",
       "    </tr>\n",
       "    <tr>\n",
       "      <th>204319</th>\n",
       "      <td>20220430</td>\n",
       "      <td>12.6</td>\n",
       "      <td>18.4</td>\n",
       "      <td>2022/4/30 14:49</td>\n",
       "      <td>7.4</td>\n",
       "      <td>2022/4/30 05:28</td>\n",
       "      <td>0.0</td>\n",
       "      <td>12.4</td>\n",
       "      <td>64.0</td>\n",
       "      <td>東京</td>\n",
       "    </tr>\n",
       "  </tbody>\n",
       "</table>\n",
       "<p>204320 rows × 10 columns</p>\n",
       "</div>"
      ],
      "text/plain": [
       "            date  mean_temp  max_temp     max_temp_time  min_temp  \\\n",
       "0       20041106       13.1      20.1   2004/11/6 12:50       8.1   \n",
       "1       20041107        9.6      12.5   2004/11/7 13:40       5.4   \n",
       "2       20041108        9.0      15.5   2004/11/8 12:51       3.2   \n",
       "3       20041109       12.2      17.7   2004/11/9 14:40       5.7   \n",
       "4       20041110       11.6      16.4  2004/11/10 14:42       6.9   \n",
       "...          ...        ...       ...               ...       ...   \n",
       "204315  20220426       21.3      23.6   2022/4/26 14:27      17.9   \n",
       "204316  20220427       23.0      27.7   2022/4/27 13:12      18.9   \n",
       "204317  20220428       16.9      21.1   2022/4/28 15:03      14.2   \n",
       "204318  20220429       12.9      16.4   2022/4/29 09:21       9.0   \n",
       "204319  20220430       12.6      18.4   2022/4/30 14:49       7.4   \n",
       "\n",
       "           min_temp_time  sum_rain  sun_time  mean_humid area  \n",
       "0        2004/11/6 05:31       5.0       1.6        77.0   青森  \n",
       "1        2004/11/7 22:17       0.0       4.1        63.0   青森  \n",
       "2        2004/11/8 06:28       0.0       8.9        72.0   青森  \n",
       "3        2004/11/9 02:49       1.5       1.2        85.0   青森  \n",
       "4       2004/11/10 06:23       0.0       7.5        89.0   青森  \n",
       "...                  ...       ...       ...         ...  ...  \n",
       "204315   2022/4/26 04:17       2.5       0.0        89.0   東京  \n",
       "204316    2022/4/28 0:00       0.5       1.6        79.0   東京  \n",
       "204317   2022/4/28 22:40       0.0       5.5        57.0   東京  \n",
       "204318   2022/4/29 23:55      40.0       0.2        86.0   東京  \n",
       "204319   2022/4/30 05:28       0.0      12.4        64.0   東京  \n",
       "\n",
       "[204320 rows x 10 columns]"
      ]
     },
     "execution_count": 12,
     "metadata": {},
     "output_type": "execute_result"
    }
   ],
   "source": [
    "weather_raw = pd.read_csv('weather.csv')\n",
    "weather_raw"
   ]
  },
  {
   "cell_type": "code",
   "execution_count": 13,
   "id": "899db731",
   "metadata": {},
   "outputs": [
    {
     "data": {
      "text/html": [
       "<div>\n",
       "<style scoped>\n",
       "    .dataframe tbody tr th:only-of-type {\n",
       "        vertical-align: middle;\n",
       "    }\n",
       "\n",
       "    .dataframe tbody tr th {\n",
       "        vertical-align: top;\n",
       "    }\n",
       "\n",
       "    .dataframe thead th {\n",
       "        text-align: right;\n",
       "    }\n",
       "</style>\n",
       "<table border=\"1\" class=\"dataframe\">\n",
       "  <thead>\n",
       "    <tr style=\"text-align: right;\">\n",
       "      <th></th>\n",
       "      <th>kind</th>\n",
       "      <th>date</th>\n",
       "      <th>mode_price</th>\n",
       "    </tr>\n",
       "  </thead>\n",
       "  <tbody>\n",
       "    <tr>\n",
       "      <th>0</th>\n",
       "      <td>だいこん</td>\n",
       "      <td>20220502</td>\n",
       "      <td>0</td>\n",
       "    </tr>\n",
       "    <tr>\n",
       "      <th>1</th>\n",
       "      <td>だいこん</td>\n",
       "      <td>20220506</td>\n",
       "      <td>0</td>\n",
       "    </tr>\n",
       "    <tr>\n",
       "      <th>2</th>\n",
       "      <td>だいこん</td>\n",
       "      <td>20220507</td>\n",
       "      <td>0</td>\n",
       "    </tr>\n",
       "    <tr>\n",
       "      <th>3</th>\n",
       "      <td>だいこん</td>\n",
       "      <td>20220509</td>\n",
       "      <td>0</td>\n",
       "    </tr>\n",
       "    <tr>\n",
       "      <th>4</th>\n",
       "      <td>だいこん</td>\n",
       "      <td>20220510</td>\n",
       "      <td>0</td>\n",
       "    </tr>\n",
       "    <tr>\n",
       "      <th>...</th>\n",
       "      <td>...</td>\n",
       "      <td>...</td>\n",
       "      <td>...</td>\n",
       "    </tr>\n",
       "    <tr>\n",
       "      <th>315</th>\n",
       "      <td>ミニトマト</td>\n",
       "      <td>20220526</td>\n",
       "      <td>0</td>\n",
       "    </tr>\n",
       "    <tr>\n",
       "      <th>316</th>\n",
       "      <td>ミニトマト</td>\n",
       "      <td>20220527</td>\n",
       "      <td>0</td>\n",
       "    </tr>\n",
       "    <tr>\n",
       "      <th>317</th>\n",
       "      <td>ミニトマト</td>\n",
       "      <td>20220528</td>\n",
       "      <td>0</td>\n",
       "    </tr>\n",
       "    <tr>\n",
       "      <th>318</th>\n",
       "      <td>ミニトマト</td>\n",
       "      <td>20220530</td>\n",
       "      <td>0</td>\n",
       "    </tr>\n",
       "    <tr>\n",
       "      <th>319</th>\n",
       "      <td>ミニトマト</td>\n",
       "      <td>20220531</td>\n",
       "      <td>0</td>\n",
       "    </tr>\n",
       "  </tbody>\n",
       "</table>\n",
       "<p>320 rows × 3 columns</p>\n",
       "</div>"
      ],
      "text/plain": [
       "      kind      date  mode_price\n",
       "0     だいこん  20220502           0\n",
       "1     だいこん  20220506           0\n",
       "2     だいこん  20220507           0\n",
       "3     だいこん  20220509           0\n",
       "4     だいこん  20220510           0\n",
       "..     ...       ...         ...\n",
       "315  ミニトマト  20220526           0\n",
       "316  ミニトマト  20220527           0\n",
       "317  ミニトマト  20220528           0\n",
       "318  ミニトマト  20220530           0\n",
       "319  ミニトマト  20220531           0\n",
       "\n",
       "[320 rows x 3 columns]"
      ]
     },
     "execution_count": 13,
     "metadata": {},
     "output_type": "execute_result"
    }
   ],
   "source": [
    "sub_raw = pd.read_csv('sample_submission.csv')\n",
    "sub_raw"
   ]
  },
  {
   "cell_type": "code",
   "execution_count": 14,
   "id": "731ef597",
   "metadata": {},
   "outputs": [
    {
     "data": {
      "text/plain": [
       "kind          0\n",
       "date          0\n",
       "amount        0\n",
       "mode_price    0\n",
       "area          0\n",
       "dtype: int64"
      ]
     },
     "execution_count": 14,
     "metadata": {},
     "output_type": "execute_result"
    }
   ],
   "source": [
    "train_raw.isnull().sum()"
   ]
  },
  {
   "cell_type": "code",
   "execution_count": 15,
   "id": "5d8461e2",
   "metadata": {},
   "outputs": [
    {
     "data": {
      "text/html": [
       "<div>\n",
       "<style scoped>\n",
       "    .dataframe tbody tr th:only-of-type {\n",
       "        vertical-align: middle;\n",
       "    }\n",
       "\n",
       "    .dataframe tbody tr th {\n",
       "        vertical-align: top;\n",
       "    }\n",
       "\n",
       "    .dataframe thead th {\n",
       "        text-align: right;\n",
       "    }\n",
       "</style>\n",
       "<table border=\"1\" class=\"dataframe\">\n",
       "  <thead>\n",
       "    <tr style=\"text-align: right;\">\n",
       "      <th></th>\n",
       "      <th>kind</th>\n",
       "      <th>date</th>\n",
       "      <th>amount</th>\n",
       "      <th>mode_price</th>\n",
       "      <th>area</th>\n",
       "    </tr>\n",
       "  </thead>\n",
       "  <tbody>\n",
       "    <tr>\n",
       "      <th>count</th>\n",
       "      <td>97782</td>\n",
       "      <td>9.778200e+04</td>\n",
       "      <td>97782.000000</td>\n",
       "      <td>97782.000000</td>\n",
       "      <td>97782</td>\n",
       "    </tr>\n",
       "    <tr>\n",
       "      <th>unique</th>\n",
       "      <td>44</td>\n",
       "      <td>NaN</td>\n",
       "      <td>NaN</td>\n",
       "      <td>NaN</td>\n",
       "      <td>266</td>\n",
       "    </tr>\n",
       "    <tr>\n",
       "      <th>top</th>\n",
       "      <td>トマト</td>\n",
       "      <td>NaN</td>\n",
       "      <td>NaN</td>\n",
       "      <td>NaN</td>\n",
       "      <td>北海道</td>\n",
       "    </tr>\n",
       "    <tr>\n",
       "      <th>freq</th>\n",
       "      <td>4379</td>\n",
       "      <td>NaN</td>\n",
       "      <td>NaN</td>\n",
       "      <td>NaN</td>\n",
       "      <td>5410</td>\n",
       "    </tr>\n",
       "    <tr>\n",
       "      <th>mean</th>\n",
       "      <td>NaN</td>\n",
       "      <td>2.013619e+07</td>\n",
       "      <td>87095.257246</td>\n",
       "      <td>1341.207081</td>\n",
       "      <td>NaN</td>\n",
       "    </tr>\n",
       "    <tr>\n",
       "      <th>std</th>\n",
       "      <td>NaN</td>\n",
       "      <td>4.726274e+04</td>\n",
       "      <td>84438.195701</td>\n",
       "      <td>1304.031597</td>\n",
       "      <td>NaN</td>\n",
       "    </tr>\n",
       "    <tr>\n",
       "      <th>min</th>\n",
       "      <td>NaN</td>\n",
       "      <td>2.005111e+07</td>\n",
       "      <td>1.000000</td>\n",
       "      <td>18.500000</td>\n",
       "      <td>NaN</td>\n",
       "    </tr>\n",
       "    <tr>\n",
       "      <th>25%</th>\n",
       "      <td>NaN</td>\n",
       "      <td>2.009123e+07</td>\n",
       "      <td>21664.250000</td>\n",
       "      <td>227.000000</td>\n",
       "      <td>NaN</td>\n",
       "    </tr>\n",
       "    <tr>\n",
       "      <th>50%</th>\n",
       "      <td>NaN</td>\n",
       "      <td>2.014012e+07</td>\n",
       "      <td>58335.500000</td>\n",
       "      <td>1242.000000</td>\n",
       "      <td>NaN</td>\n",
       "    </tr>\n",
       "    <tr>\n",
       "      <th>75%</th>\n",
       "      <td>NaN</td>\n",
       "      <td>2.018020e+07</td>\n",
       "      <td>128100.750000</td>\n",
       "      <td>1890.000000</td>\n",
       "      <td>NaN</td>\n",
       "    </tr>\n",
       "    <tr>\n",
       "      <th>max</th>\n",
       "      <td>NaN</td>\n",
       "      <td>2.022043e+07</td>\n",
       "      <td>965216.000000</td>\n",
       "      <td>25920.000000</td>\n",
       "      <td>NaN</td>\n",
       "    </tr>\n",
       "  </tbody>\n",
       "</table>\n",
       "</div>"
      ],
      "text/plain": [
       "         kind          date         amount    mode_price   area\n",
       "count   97782  9.778200e+04   97782.000000  97782.000000  97782\n",
       "unique     44           NaN            NaN           NaN    266\n",
       "top       トマト           NaN            NaN           NaN    北海道\n",
       "freq     4379           NaN            NaN           NaN   5410\n",
       "mean      NaN  2.013619e+07   87095.257246   1341.207081    NaN\n",
       "std       NaN  4.726274e+04   84438.195701   1304.031597    NaN\n",
       "min       NaN  2.005111e+07       1.000000     18.500000    NaN\n",
       "25%       NaN  2.009123e+07   21664.250000    227.000000    NaN\n",
       "50%       NaN  2.014012e+07   58335.500000   1242.000000    NaN\n",
       "75%       NaN  2.018020e+07  128100.750000   1890.000000    NaN\n",
       "max       NaN  2.022043e+07  965216.000000  25920.000000    NaN"
      ]
     },
     "execution_count": 15,
     "metadata": {},
     "output_type": "execute_result"
    }
   ],
   "source": [
    "train_raw.describe(include='all')"
   ]
  },
  {
   "cell_type": "code",
   "execution_count": 16,
   "id": "f9908a64",
   "metadata": {},
   "outputs": [
    {
     "data": {
      "text/plain": [
       "array(['だいこん', 'かぶ', 'にんじん', 'ごぼう', 'れんこん', 'キャベツ', 'レタス', 'はくさい', 'こまつな',\n",
       "       'ほうれんそう', 'ねぎ', 'しゅんぎく', 'ブロッコリー', 'きゅうり', 'かぼちゃ', 'なす', 'トマト',\n",
       "       'ピーマン', 'じゃがいも', 'さつまいも', 'さといも', 'たまねぎ', 'なましいたけ', 'セルリー',\n",
       "       'さやえんどう', 'なのはな', 'たけのこ', 'ふき', 'うど', 'そらまめ', 'アスパラガス', 'ピース',\n",
       "       'とうもろこし', 'いんげん', 'えだまめ', 'うめ', 'まつたけ', 'オクラ', 'レイシにがうり', 'みずな',\n",
       "       'ミニトマト', 'にら', 'えのきだけ', 'しめじ'], dtype=object)"
      ]
     },
     "execution_count": 16,
     "metadata": {},
     "output_type": "execute_result"
    }
   ],
   "source": [
    "train_raw['kind'].unique()"
   ]
  },
  {
   "cell_type": "code",
   "execution_count": 17,
   "id": "a9e7d01b",
   "metadata": {},
   "outputs": [
    {
     "data": {
      "text/plain": [
       "44"
      ]
     },
     "execution_count": 17,
     "metadata": {},
     "output_type": "execute_result"
    }
   ],
   "source": [
    "len(train_raw['kind'].unique())"
   ]
  },
  {
   "cell_type": "code",
   "execution_count": 18,
   "id": "54ff9562",
   "metadata": {},
   "outputs": [
    {
     "data": {
      "text/plain": [
       "array(['だいこん', 'にんじん', 'キャベツ', 'レタス', 'はくさい', 'こまつな', 'ほうれんそう', 'ねぎ',\n",
       "       'きゅうり', 'トマト', 'ピーマン', 'じゃがいも', 'なましいたけ', 'セルリー', 'そらまめ', 'ミニトマト'],\n",
       "      dtype=object)"
      ]
     },
     "execution_count": 18,
     "metadata": {},
     "output_type": "execute_result"
    }
   ],
   "source": [
    "test_raw['kind'].unique()"
   ]
  },
  {
   "cell_type": "code",
   "execution_count": 19,
   "id": "401c95bb",
   "metadata": {},
   "outputs": [
    {
     "data": {
      "text/plain": [
       "16"
      ]
     },
     "execution_count": 19,
     "metadata": {},
     "output_type": "execute_result"
    }
   ],
   "source": [
    "len(test_raw['kind'].unique())"
   ]
  },
  {
   "cell_type": "code",
   "execution_count": 20,
   "id": "fc40f164",
   "metadata": {},
   "outputs": [
    {
     "data": {
      "text/plain": [
       "16"
      ]
     },
     "execution_count": 20,
     "metadata": {},
     "output_type": "execute_result"
    }
   ],
   "source": [
    "len(sub_raw['kind'].unique())"
   ]
  },
  {
   "cell_type": "markdown",
   "id": "5447ead0",
   "metadata": {},
   "source": [
    "## trainデータ"
   ]
  },
  {
   "cell_type": "code",
   "execution_count": 21,
   "id": "65a8bbbe",
   "metadata": {},
   "outputs": [],
   "source": [
    "train = train_raw.copy()"
   ]
  },
  {
   "cell_type": "markdown",
   "id": "146deb48",
   "metadata": {},
   "source": [
    "### dateをdatetime型に変換"
   ]
  },
  {
   "cell_type": "code",
   "execution_count": 22,
   "id": "40aad8f4",
   "metadata": {},
   "outputs": [],
   "source": [
    "train['date'] = train['date'].astype(str)"
   ]
  },
  {
   "cell_type": "code",
   "execution_count": 23,
   "id": "2fc1bc42",
   "metadata": {},
   "outputs": [],
   "source": [
    "train['date'] = pd.to_datetime(train['date'])"
   ]
  },
  {
   "cell_type": "markdown",
   "id": "f7896f1c",
   "metadata": {},
   "source": [
    "# LSTM_study"
   ]
  },
  {
   "cell_type": "markdown",
   "id": "a793879b",
   "metadata": {},
   "source": [
    "## だいこん単体の予測"
   ]
  },
  {
   "cell_type": "code",
   "execution_count": 24,
   "id": "ad1a8409",
   "metadata": {},
   "outputs": [
    {
     "data": {
      "text/html": [
       "<div>\n",
       "<style scoped>\n",
       "    .dataframe tbody tr th:only-of-type {\n",
       "        vertical-align: middle;\n",
       "    }\n",
       "\n",
       "    .dataframe tbody tr th {\n",
       "        vertical-align: top;\n",
       "    }\n",
       "\n",
       "    .dataframe thead th {\n",
       "        text-align: right;\n",
       "    }\n",
       "</style>\n",
       "<table border=\"1\" class=\"dataframe\">\n",
       "  <thead>\n",
       "    <tr style=\"text-align: right;\">\n",
       "      <th></th>\n",
       "      <th>mode_price</th>\n",
       "    </tr>\n",
       "    <tr>\n",
       "      <th>date</th>\n",
       "      <th></th>\n",
       "    </tr>\n",
       "  </thead>\n",
       "  <tbody>\n",
       "    <tr>\n",
       "      <th>2005-11-07</th>\n",
       "      <td>735.0</td>\n",
       "    </tr>\n",
       "    <tr>\n",
       "      <th>2005-11-08</th>\n",
       "      <td>840.0</td>\n",
       "    </tr>\n",
       "    <tr>\n",
       "      <th>2005-11-10</th>\n",
       "      <td>735.0</td>\n",
       "    </tr>\n",
       "    <tr>\n",
       "      <th>2005-11-11</th>\n",
       "      <td>682.5</td>\n",
       "    </tr>\n",
       "    <tr>\n",
       "      <th>2005-11-12</th>\n",
       "      <td>682.5</td>\n",
       "    </tr>\n",
       "    <tr>\n",
       "      <th>...</th>\n",
       "      <td>...</td>\n",
       "    </tr>\n",
       "    <tr>\n",
       "      <th>2022-04-25</th>\n",
       "      <td>864.0</td>\n",
       "    </tr>\n",
       "    <tr>\n",
       "      <th>2022-04-26</th>\n",
       "      <td>756.0</td>\n",
       "    </tr>\n",
       "    <tr>\n",
       "      <th>2022-04-28</th>\n",
       "      <td>864.0</td>\n",
       "    </tr>\n",
       "    <tr>\n",
       "      <th>2022-04-29</th>\n",
       "      <td>918.0</td>\n",
       "    </tr>\n",
       "    <tr>\n",
       "      <th>2022-04-30</th>\n",
       "      <td>864.0</td>\n",
       "    </tr>\n",
       "  </tbody>\n",
       "</table>\n",
       "<p>4375 rows × 1 columns</p>\n",
       "</div>"
      ],
      "text/plain": [
       "            mode_price\n",
       "date                  \n",
       "2005-11-07       735.0\n",
       "2005-11-08       840.0\n",
       "2005-11-10       735.0\n",
       "2005-11-11       682.5\n",
       "2005-11-12       682.5\n",
       "...                ...\n",
       "2022-04-25       864.0\n",
       "2022-04-26       756.0\n",
       "2022-04-28       864.0\n",
       "2022-04-29       918.0\n",
       "2022-04-30       864.0\n",
       "\n",
       "[4375 rows x 1 columns]"
      ]
     },
     "execution_count": 24,
     "metadata": {},
     "output_type": "execute_result"
    }
   ],
   "source": [
    "df_daikon = train[train['kind']=='だいこん'][['date', 'mode_price']].set_index('date')\n",
    "df_daikon"
   ]
  },
  {
   "cell_type": "code",
   "execution_count": 25,
   "id": "2fbbbd10",
   "metadata": {},
   "outputs": [
    {
     "data": {
      "text/plain": [
       "[<matplotlib.lines.Line2D at 0x12ee01fd0>]"
      ]
     },
     "execution_count": 25,
     "metadata": {},
     "output_type": "execute_result"
    },
    {
     "data": {
      "image/png": "[encoded data removed]",
      "text/plain": [
       "<Figure size 432x288 with 1 Axes>"
      ]
     },
     "metadata": {
      "needs_background": "light"
     },
     "output_type": "display_data"
    }
   ],
   "source": [
    "plt.plot(df_daikon.index, df_daikon['mode_price'])"
   ]
  },
  {
   "cell_type": "code",
   "execution_count": 26,
   "id": "79ee4f62",
   "metadata": {},
   "outputs": [],
   "source": [
    "def str_to_datetime(s):\n",
    "    split = s.split('-')\n",
    "    year, month, day = int(split[0]), int(split[1]), int(split[2])\n",
    "    return datetime.datetime(year=year, month=month, day=day)\n",
    "\n",
    "def df_to_windowed_df(dataframe, first_date_str, last_date_str, n=3):\n",
    "    first_date = str_to_datetime(first_date_str)\n",
    "    last_date = str_to_datetime(last_date_str)\n",
    "    \n",
    "    target_date = first_date\n",
    "    \n",
    "    dates = []\n",
    "    X, Y = [], []\n",
    "    \n",
    "    last_time = False\n",
    "    while True:\n",
    "        df_subset = dataframe.loc[:target_date].tail(n+1)\n",
    "        \n",
    "        if len(df_subset) != n+1:\n",
    "            print(f'Error: Window of size {n} is too large for date {target_date}')\n",
    "            return\n",
    "        \n",
    "        values = df_subset['mode_price'].to_numpy()\n",
    "        x, y = values[:-1], values[-1]\n",
    "        \n",
    "        dates.append(target_date)\n",
    "        X.append(x)\n",
    "        Y.append(y)\n",
    "        \n",
    "        next_week = dataframe.loc[target_date:target_date+datetime.timedelta(days=7)]\n",
    "        next_datetime_str = str(next_week.head(2).tail(1).index.values[0])\n",
    "        next_date_str = next_datetime_str.split('T')[0]\n",
    "        year_month_day = next_date_str.split('-')\n",
    "        year, month, day = year_month_day\n",
    "        next_date = datetime.datetime(day=int(day), month=int(month), year=int(year))\n",
    "        \n",
    "        if last_time:\n",
    "            break\n",
    "        \n",
    "        target_date = next_date\n",
    "        \n",
    "        if target_date == last_date:\n",
    "            last_time = True\n",
    "            \n",
    "    ret_df = pd.DataFrame({})\n",
    "    ret_df['Target Date'] = dates\n",
    "\n",
    "    X = np.array(X)\n",
    "    for i in range(0, n):\n",
    "        X[:,i]\n",
    "        ret_df[f'Target-{n-i}'] = X[:, i]\n",
    "\n",
    "    ret_df['Target'] = Y\n",
    "\n",
    "    return ret_df"
   ]
  },
  {
   "cell_type": "code",
   "execution_count": 27,
   "id": "252a2570",
   "metadata": {},
   "outputs": [],
   "source": [
    "# Start day second time around: '2021-03-25'\n",
    "windowed_df = df_to_windowed_df(df_daikon,\n",
    "                               '2021-04-30',\n",
    "                               '2022-04-30',\n",
    "                               n=3)"
   ]
  },
  {
   "cell_type": "code",
   "execution_count": 28,
   "id": "03dad4d9",
   "metadata": {},
   "outputs": [
    {
     "data": {
      "text/html": [
       "<div>\n",
       "<style scoped>\n",
       "    .dataframe tbody tr th:only-of-type {\n",
       "        vertical-align: middle;\n",
       "    }\n",
       "\n",
       "    .dataframe tbody tr th {\n",
       "        vertical-align: top;\n",
       "    }\n",
       "\n",
       "    .dataframe thead th {\n",
       "        text-align: right;\n",
       "    }\n",
       "</style>\n",
       "<table border=\"1\" class=\"dataframe\">\n",
       "  <thead>\n",
       "    <tr style=\"text-align: right;\">\n",
       "      <th></th>\n",
       "      <th>Target Date</th>\n",
       "      <th>Target-3</th>\n",
       "      <th>Target-2</th>\n",
       "      <th>Target-1</th>\n",
       "      <th>Target</th>\n",
       "    </tr>\n",
       "  </thead>\n",
       "  <tbody>\n",
       "    <tr>\n",
       "      <th>0</th>\n",
       "      <td>2021-04-30</td>\n",
       "      <td>864.0</td>\n",
       "      <td>864.0</td>\n",
       "      <td>864.0</td>\n",
       "      <td>972.0</td>\n",
       "    </tr>\n",
       "    <tr>\n",
       "      <th>1</th>\n",
       "      <td>2021-05-01</td>\n",
       "      <td>864.0</td>\n",
       "      <td>864.0</td>\n",
       "      <td>972.0</td>\n",
       "      <td>972.0</td>\n",
       "    </tr>\n",
       "    <tr>\n",
       "      <th>2</th>\n",
       "      <td>2021-05-03</td>\n",
       "      <td>864.0</td>\n",
       "      <td>972.0</td>\n",
       "      <td>972.0</td>\n",
       "      <td>972.0</td>\n",
       "    </tr>\n",
       "    <tr>\n",
       "      <th>3</th>\n",
       "      <td>2021-05-06</td>\n",
       "      <td>972.0</td>\n",
       "      <td>972.0</td>\n",
       "      <td>972.0</td>\n",
       "      <td>972.0</td>\n",
       "    </tr>\n",
       "    <tr>\n",
       "      <th>4</th>\n",
       "      <td>2021-05-07</td>\n",
       "      <td>972.0</td>\n",
       "      <td>972.0</td>\n",
       "      <td>972.0</td>\n",
       "      <td>972.0</td>\n",
       "    </tr>\n",
       "    <tr>\n",
       "      <th>...</th>\n",
       "      <td>...</td>\n",
       "      <td>...</td>\n",
       "      <td>...</td>\n",
       "      <td>...</td>\n",
       "      <td>...</td>\n",
       "    </tr>\n",
       "    <tr>\n",
       "      <th>250</th>\n",
       "      <td>2022-04-25</td>\n",
       "      <td>1026.0</td>\n",
       "      <td>972.0</td>\n",
       "      <td>918.0</td>\n",
       "      <td>864.0</td>\n",
       "    </tr>\n",
       "    <tr>\n",
       "      <th>251</th>\n",
       "      <td>2022-04-26</td>\n",
       "      <td>972.0</td>\n",
       "      <td>918.0</td>\n",
       "      <td>864.0</td>\n",
       "      <td>756.0</td>\n",
       "    </tr>\n",
       "    <tr>\n",
       "      <th>252</th>\n",
       "      <td>2022-04-28</td>\n",
       "      <td>918.0</td>\n",
       "      <td>864.0</td>\n",
       "      <td>756.0</td>\n",
       "      <td>864.0</td>\n",
       "    </tr>\n",
       "    <tr>\n",
       "      <th>253</th>\n",
       "      <td>2022-04-29</td>\n",
       "      <td>864.0</td>\n",
       "      <td>756.0</td>\n",
       "      <td>864.0</td>\n",
       "      <td>918.0</td>\n",
       "    </tr>\n",
       "    <tr>\n",
       "      <th>254</th>\n",
       "      <td>2022-04-30</td>\n",
       "      <td>756.0</td>\n",
       "      <td>864.0</td>\n",
       "      <td>918.0</td>\n",
       "      <td>864.0</td>\n",
       "    </tr>\n",
       "  </tbody>\n",
       "</table>\n",
       "<p>255 rows × 5 columns</p>\n",
       "</div>"
      ],
      "text/plain": [
       "    Target Date  Target-3  Target-2  Target-1  Target\n",
       "0    2021-04-30     864.0     864.0     864.0   972.0\n",
       "1    2021-05-01     864.0     864.0     972.0   972.0\n",
       "2    2021-05-03     864.0     972.0     972.0   972.0\n",
       "3    2021-05-06     972.0     972.0     972.0   972.0\n",
       "4    2021-05-07     972.0     972.0     972.0   972.0\n",
       "..          ...       ...       ...       ...     ...\n",
       "250  2022-04-25    1026.0     972.0     918.0   864.0\n",
       "251  2022-04-26     972.0     918.0     864.0   756.0\n",
       "252  2022-04-28     918.0     864.0     756.0   864.0\n",
       "253  2022-04-29     864.0     756.0     864.0   918.0\n",
       "254  2022-04-30     756.0     864.0     918.0   864.0\n",
       "\n",
       "[255 rows x 5 columns]"
      ]
     },
     "execution_count": 28,
     "metadata": {},
     "output_type": "execute_result"
    }
   ],
   "source": [
    "windowed_df"
   ]
  },
  {
   "cell_type": "code",
   "execution_count": 29,
   "id": "6ac5d0f9",
   "metadata": {},
   "outputs": [
    {
     "data": {
      "text/plain": [
       "((255,), (255, 3, 1), (255,))"
      ]
     },
     "execution_count": 29,
     "metadata": {},
     "output_type": "execute_result"
    }
   ],
   "source": [
    "def windowed_df_to_date_X_y(windowed_dataframe):\n",
    "    df_as_np = windowed_dataframe.to_numpy()\n",
    "    \n",
    "    dates = df_as_np[:, 0]\n",
    "    \n",
    "    middle_matrix = df_as_np[:, 1: -1]\n",
    "    X = middle_matrix.reshape((len(dates), middle_matrix.shape[1], 1))\n",
    "    \n",
    "    Y = df_as_np[:, -1]\n",
    "    \n",
    "    return dates, X.astype(np.float32), Y.astype(np.float32)\n",
    "\n",
    "dates, X, y = windowed_df_to_date_X_y(windowed_df)\n",
    "dates.shape, X.shape, y.shape"
   ]
  },
  {
   "cell_type": "code",
   "execution_count": 30,
   "id": "48a87546",
   "metadata": {},
   "outputs": [],
   "source": [
    "q_80 = int(len(dates) * .8)\n",
    "q_90 = int(len(dates) * .9)\n",
    "\n",
    "dates_train, X_train, y_train = dates[:q_80], X[:q_80], y[:q_80]\n",
    "\n",
    "dates_val, X_val, y_val = dates[q_80:q_90], X[q_80:q_90], y[q_80:q_90]\n",
    "dates_test, X_test, y_test = dates[q_90:], X[q_90:], y[q_90:]"
   ]
  },
  {
   "cell_type": "code",
   "execution_count": 31,
   "id": "05b0bbf1",
   "metadata": {
    "tags": []
   },
   "outputs": [
    {
     "data": {
      "text/plain": [
       "<matplotlib.legend.Legend at 0x12c0eeaf0>"
      ]
     },
     "execution_count": 31,
     "metadata": {},
     "output_type": "execute_result"
    },
    {
     "data": {
      "image/png": "[encoded data removed]",
      "text/plain": [
       "<Figure size 432x288 with 1 Axes>"
      ]
     },
     "metadata": {
      "needs_background": "light"
     },
     "output_type": "display_data"
    }
   ],
   "source": [
    "plt.plot(dates_train, y_train)\n",
    "plt.plot(dates_val, y_val)\n",
    "plt.plot(dates_test, y_test)\n",
    "\n",
    "plt.legend(['Train','Validation','Test'])"
   ]
  },
  {
   "cell_type": "code",
   "execution_count": 32,
   "id": "96a65ec9",
   "metadata": {},
   "outputs": [
    {
     "name": "stdout",
     "output_type": "stream",
     "text": [
      "Metal device set to: Apple M1\n"
     ]
    },
    {
     "name": "stderr",
     "output_type": "stream",
     "text": [
      "2022-06-19 19:22:58.045992: I tensorflow/core/common_runtime/pluggable_device/pluggable_device_factory.cc:305] Could not identify NUMA node of platform GPU ID 0, defaulting to 0. Your kernel may not have been built with NUMA support.\n",
      "2022-06-19 19:22:58.046108: I tensorflow/core/common_runtime/pluggable_device/pluggable_device_factory.cc:271] Created TensorFlow device (/job:localhost/replica:0/task:0/device:GPU:0 with 0 MB memory) -> physical PluggableDevice (device: 0, name: METAL, pci bus id: <undefined>)\n"
     ]
    },
    {
     "name": "stdout",
     "output_type": "stream",
     "text": [
      "Epoch 1/100\n"
     ]
    },
    {
     "name": "stderr",
     "output_type": "stream",
     "text": [
      "2022-06-19 19:22:58.642952: W tensorflow/core/platform/profile_utils/cpu_utils.cc:128] Failed to get CPU frequency: 0 Hz\n",
      "2022-06-19 19:22:59.345831: I tensorflow/core/grappler/optimizers/custom_graph_optimizer_registry.cc:113] Plugin optimizer for device_type GPU is enabled.\n",
      "2022-06-19 19:22:59.468981: I tensorflow/core/grappler/optimizers/custom_graph_optimizer_registry.cc:113] Plugin optimizer for device_type GPU is enabled.\n",
      "2022-06-19 19:23:00.778145: I tensorflow/core/grappler/optimizers/custom_graph_optimizer_registry.cc:113] Plugin optimizer for device_type GPU is enabled.\n"
     ]
    },
    {
     "name": "stdout",
     "output_type": "stream",
     "text": [
      "7/7 [==============================] - 4s 177ms/step - loss: 877901.7500 - mean_absolute_error: 903.3956 - val_loss: 1451563.1250 - val_mean_absolute_error: 1202.5292\n",
      "Epoch 2/100\n",
      "1/7 [===>..........................] - ETA: 0s - loss: 729985.7500 - mean_absolute_error: 826.2869"
     ]
    },
    {
     "name": "stderr",
     "output_type": "stream",
     "text": [
      "2022-06-19 19:23:02.457692: I tensorflow/core/grappler/optimizers/custom_graph_optimizer_registry.cc:113] Plugin optimizer for device_type GPU is enabled.\n",
      "2022-06-19 19:23:02.505590: I tensorflow/core/grappler/optimizers/custom_graph_optimizer_registry.cc:113] Plugin optimizer for device_type GPU is enabled.\n"
     ]
    },
    {
     "name": "stdout",
     "output_type": "stream",
     "text": [
      "7/7 [==============================] - 0s 11ms/step - loss: 877134.3125 - mean_absolute_error: 902.9698 - val_loss: 1450621.1250 - val_mean_absolute_error: 1202.1373\n",
      "Epoch 3/100\n",
      "7/7 [==============================] - 0s 10ms/step - loss: 876257.6250 - mean_absolute_error: 902.4822 - val_loss: 1449199.1250 - val_mean_absolute_error: 1201.5459\n",
      "Epoch 4/100\n",
      "7/7 [==============================] - 0s 10ms/step - loss: 875175.1875 - mean_absolute_error: 901.8793 - val_loss: 1447456.6250 - val_mean_absolute_error: 1200.8204\n",
      "Epoch 5/100\n",
      "7/7 [==============================] - 0s 9ms/step - loss: 873730.4375 - mean_absolute_error: 901.0814 - val_loss: 1445307.6250 - val_mean_absolute_error: 1199.9253\n",
      "Epoch 6/100\n",
      "7/7 [==============================] - 0s 10ms/step - loss: 871806.6250 - mean_absolute_error: 900.0159 - val_loss: 1441970.8750 - val_mean_absolute_error: 1198.5343\n",
      "Epoch 7/100\n",
      "7/7 [==============================] - 0s 10ms/step - loss: 869155.5625 - mean_absolute_error: 898.5248 - val_loss: 1438065.3750 - val_mean_absolute_error: 1196.9037\n",
      "Epoch 8/100\n",
      "7/7 [==============================] - 0s 10ms/step - loss: 865489.3125 - mean_absolute_error: 896.4932 - val_loss: 1432069.6250 - val_mean_absolute_error: 1194.3964\n",
      "Epoch 9/100\n",
      "7/7 [==============================] - 0s 10ms/step - loss: 860814.0625 - mean_absolute_error: 893.8991 - val_loss: 1424817.8750 - val_mean_absolute_error: 1191.3566\n",
      "Epoch 10/100\n",
      "7/7 [==============================] - 0s 9ms/step - loss: 854848.8750 - mean_absolute_error: 890.5234 - val_loss: 1416123.5000 - val_mean_absolute_error: 1187.7023\n",
      "Epoch 11/100\n",
      "7/7 [==============================] - 0s 10ms/step - loss: 847842.2500 - mean_absolute_error: 886.6173 - val_loss: 1405568.2500 - val_mean_absolute_error: 1183.2504\n",
      "Epoch 12/100\n",
      "7/7 [==============================] - 0s 10ms/step - loss: 839525.1250 - mean_absolute_error: 881.9280 - val_loss: 1393449.3750 - val_mean_absolute_error: 1178.1183\n",
      "Epoch 13/100\n",
      "7/7 [==============================] - 0s 10ms/step - loss: 829867.3750 - mean_absolute_error: 876.3799 - val_loss: 1378154.7500 - val_mean_absolute_error: 1171.6091\n",
      "Epoch 14/100\n",
      "7/7 [==============================] - 0s 10ms/step - loss: 817247.9375 - mean_absolute_error: 869.0762 - val_loss: 1357943.5000 - val_mean_absolute_error: 1162.9518\n",
      "Epoch 15/100\n",
      "7/7 [==============================] - 0s 10ms/step - loss: 801049.5000 - mean_absolute_error: 859.8482 - val_loss: 1334056.1250 - val_mean_absolute_error: 1152.6357\n",
      "Epoch 16/100\n",
      "7/7 [==============================] - 0s 9ms/step - loss: 782291.1875 - mean_absolute_error: 848.8735 - val_loss: 1307507.7500 - val_mean_absolute_error: 1141.0614\n",
      "Epoch 17/100\n",
      "7/7 [==============================] - 0s 10ms/step - loss: 762017.1250 - mean_absolute_error: 836.8557 - val_loss: 1278576.8750 - val_mean_absolute_error: 1128.3130\n",
      "Epoch 18/100\n",
      "7/7 [==============================] - 0s 9ms/step - loss: 739886.3750 - mean_absolute_error: 823.4665 - val_loss: 1246271.7500 - val_mean_absolute_error: 1113.9053\n",
      "Epoch 19/100\n",
      "7/7 [==============================] - 0s 10ms/step - loss: 715411.3750 - mean_absolute_error: 808.4191 - val_loss: 1210740.1250 - val_mean_absolute_error: 1097.8403\n",
      "Epoch 20/100\n",
      "7/7 [==============================] - 0s 9ms/step - loss: 688481.1250 - mean_absolute_error: 791.7416 - val_loss: 1172143.2500 - val_mean_absolute_error: 1080.1188\n",
      "Epoch 21/100\n",
      "7/7 [==============================] - 0s 10ms/step - loss: 659788.7500 - mean_absolute_error: 773.2208 - val_loss: 1129906.7500 - val_mean_absolute_error: 1060.3867\n",
      "Epoch 22/100\n",
      "7/7 [==============================] - 0s 10ms/step - loss: 628528.6250 - mean_absolute_error: 752.7613 - val_loss: 1084548.7500 - val_mean_absolute_error: 1038.7792\n",
      "Epoch 23/100\n",
      "7/7 [==============================] - 0s 9ms/step - loss: 595574.7500 - mean_absolute_error: 730.4832 - val_loss: 1036598.6875 - val_mean_absolute_error: 1015.4368\n",
      "Epoch 24/100\n",
      "7/7 [==============================] - 0s 10ms/step - loss: 561183.5625 - mean_absolute_error: 706.3816 - val_loss: 984429.1250 - val_mean_absolute_error: 989.4150\n",
      "Epoch 25/100\n",
      "7/7 [==============================] - 0s 10ms/step - loss: 523210.9688 - mean_absolute_error: 679.2841 - val_loss: 930277.7500 - val_mean_absolute_error: 961.6605\n",
      "Epoch 26/100\n",
      "7/7 [==============================] - 0s 10ms/step - loss: 485671.5938 - mean_absolute_error: 650.9933 - val_loss: 874355.8125 - val_mean_absolute_error: 932.1314\n",
      "Epoch 27/100\n",
      "7/7 [==============================] - 0s 10ms/step - loss: 447266.0625 - mean_absolute_error: 620.7410 - val_loss: 816903.0000 - val_mean_absolute_error: 900.7864\n",
      "Epoch 28/100\n",
      "7/7 [==============================] - 0s 9ms/step - loss: 408317.3750 - mean_absolute_error: 588.7606 - val_loss: 758511.1250 - val_mean_absolute_error: 867.7698\n",
      "Epoch 29/100\n",
      "7/7 [==============================] - 0s 10ms/step - loss: 369715.1562 - mean_absolute_error: 555.0736 - val_loss: 699498.2500 - val_mean_absolute_error: 833.0734\n",
      "Epoch 30/100\n",
      "7/7 [==============================] - 0s 10ms/step - loss: 332594.7500 - mean_absolute_error: 519.6658 - val_loss: 640420.6875 - val_mean_absolute_error: 796.8273\n",
      "Epoch 31/100\n",
      "7/7 [==============================] - 0s 10ms/step - loss: 295737.0625 - mean_absolute_error: 483.2970 - val_loss: 583184.8750 - val_mean_absolute_error: 760.0645\n",
      "Epoch 32/100\n",
      "7/7 [==============================] - 0s 10ms/step - loss: 260657.7969 - mean_absolute_error: 446.8670 - val_loss: 528499.9375 - val_mean_absolute_error: 723.1965\n",
      "Epoch 33/100\n",
      "7/7 [==============================] - 0s 10ms/step - loss: 228975.7344 - mean_absolute_error: 410.7437 - val_loss: 474735.5938 - val_mean_absolute_error: 685.0173\n",
      "Epoch 34/100\n",
      "7/7 [==============================] - 0s 10ms/step - loss: 199654.7969 - mean_absolute_error: 376.1482 - val_loss: 424179.0312 - val_mean_absolute_error: 647.0644\n",
      "Epoch 35/100\n",
      "7/7 [==============================] - 0s 10ms/step - loss: 172824.0000 - mean_absolute_error: 343.8646 - val_loss: 377810.7188 - val_mean_absolute_error: 610.1836\n",
      "Epoch 36/100\n",
      "7/7 [==============================] - 0s 9ms/step - loss: 149796.7188 - mean_absolute_error: 314.6037 - val_loss: 334838.0312 - val_mean_absolute_error: 573.8913\n",
      "Epoch 37/100\n",
      "7/7 [==============================] - 0s 10ms/step - loss: 129751.2422 - mean_absolute_error: 287.4451 - val_loss: 295753.7188 - val_mean_absolute_error: 538.7643\n",
      "Epoch 38/100\n",
      "7/7 [==============================] - 0s 10ms/step - loss: 112917.0547 - mean_absolute_error: 264.9000 - val_loss: 261127.5156 - val_mean_absolute_error: 505.6093\n",
      "Epoch 39/100\n",
      "7/7 [==============================] - 0s 10ms/step - loss: 98787.2188 - mean_absolute_error: 244.7310 - val_loss: 230846.5625 - val_mean_absolute_error: 474.7207\n",
      "Epoch 40/100\n",
      "7/7 [==============================] - 0s 10ms/step - loss: 88648.2891 - mean_absolute_error: 230.0314 - val_loss: 203794.0312 - val_mean_absolute_error: 445.3171\n",
      "Epoch 41/100\n",
      "7/7 [==============================] - 0s 10ms/step - loss: 80288.9141 - mean_absolute_error: 218.8027 - val_loss: 181448.5156 - val_mean_absolute_error: 419.4780\n",
      "Epoch 42/100\n",
      "7/7 [==============================] - 0s 10ms/step - loss: 74234.7812 - mean_absolute_error: 212.3114 - val_loss: 162733.1406 - val_mean_absolute_error: 396.5430\n",
      "Epoch 43/100\n",
      "7/7 [==============================] - 0s 10ms/step - loss: 69414.6797 - mean_absolute_error: 206.6749 - val_loss: 148618.5000 - val_mean_absolute_error: 378.3276\n",
      "Epoch 44/100\n",
      "7/7 [==============================] - 0s 9ms/step - loss: 67048.6328 - mean_absolute_error: 204.5710 - val_loss: 135103.3906 - val_mean_absolute_error: 360.0232\n",
      "Epoch 45/100\n",
      "7/7 [==============================] - 0s 10ms/step - loss: 64726.4766 - mean_absolute_error: 201.0375 - val_loss: 124741.7578 - val_mean_absolute_error: 345.3332\n",
      "Epoch 46/100\n",
      "7/7 [==============================] - 0s 10ms/step - loss: 63453.7070 - mean_absolute_error: 198.8750 - val_loss: 116099.8359 - val_mean_absolute_error: 332.5854\n",
      "Epoch 47/100\n",
      "7/7 [==============================] - 0s 10ms/step - loss: 62609.8945 - mean_absolute_error: 199.6826 - val_loss: 109316.3203 - val_mean_absolute_error: 322.2261\n",
      "Epoch 48/100\n",
      "7/7 [==============================] - 0s 10ms/step - loss: 62339.5664 - mean_absolute_error: 200.9255 - val_loss: 104197.4453 - val_mean_absolute_error: 314.1826\n",
      "Epoch 49/100\n",
      "7/7 [==============================] - 0s 10ms/step - loss: 61885.4844 - mean_absolute_error: 201.2056 - val_loss: 102278.2266 - val_mean_absolute_error: 311.1344\n",
      "Epoch 50/100\n",
      "7/7 [==============================] - 0s 10ms/step - loss: 62775.6680 - mean_absolute_error: 200.8523 - val_loss: 142242.5938 - val_mean_absolute_error: 369.8061\n",
      "Epoch 51/100\n",
      "7/7 [==============================] - 0s 9ms/step - loss: 66320.0625 - mean_absolute_error: 203.3243 - val_loss: 136402.7188 - val_mean_absolute_error: 361.8242\n",
      "Epoch 52/100\n",
      "7/7 [==============================] - 0s 10ms/step - loss: 65052.4922 - mean_absolute_error: 201.4837 - val_loss: 131630.0156 - val_mean_absolute_error: 355.2216\n",
      "Epoch 53/100\n",
      "7/7 [==============================] - 0s 9ms/step - loss: 63402.1797 - mean_absolute_error: 198.8989 - val_loss: 135890.0625 - val_mean_absolute_error: 361.2914\n",
      "Epoch 54/100\n",
      "7/7 [==============================] - 0s 9ms/step - loss: 62552.0508 - mean_absolute_error: 197.4039 - val_loss: 116564.9062 - val_mean_absolute_error: 333.3855\n",
      "Epoch 55/100\n",
      "7/7 [==============================] - 0s 9ms/step - loss: 60861.2266 - mean_absolute_error: 196.0608 - val_loss: 115849.8359 - val_mean_absolute_error: 332.3965\n",
      "Epoch 56/100\n",
      "7/7 [==============================] - 0s 9ms/step - loss: 59995.5703 - mean_absolute_error: 195.0094 - val_loss: 103547.0781 - val_mean_absolute_error: 313.2634\n",
      "Epoch 57/100\n",
      "7/7 [==============================] - 0s 10ms/step - loss: 58474.5625 - mean_absolute_error: 193.1176 - val_loss: 98716.6172 - val_mean_absolute_error: 305.4766\n",
      "Epoch 58/100\n",
      "7/7 [==============================] - 0s 9ms/step - loss: 57571.9688 - mean_absolute_error: 193.1760 - val_loss: 95424.1172 - val_mean_absolute_error: 300.1114\n",
      "Epoch 59/100\n",
      "7/7 [==============================] - 0s 9ms/step - loss: 56408.8359 - mean_absolute_error: 190.6662 - val_loss: 90237.1797 - val_mean_absolute_error: 291.2595\n",
      "Epoch 60/100\n",
      "7/7 [==============================] - 0s 9ms/step - loss: 55737.6250 - mean_absolute_error: 191.4173 - val_loss: 97862.3359 - val_mean_absolute_error: 304.5022\n",
      "Epoch 61/100\n",
      "7/7 [==============================] - 0s 9ms/step - loss: 55021.9141 - mean_absolute_error: 188.0450 - val_loss: 84567.4766 - val_mean_absolute_error: 281.3386\n",
      "Epoch 62/100\n",
      "7/7 [==============================] - 0s 9ms/step - loss: 52952.3555 - mean_absolute_error: 184.9529 - val_loss: 84194.7969 - val_mean_absolute_error: 280.9783\n",
      "Epoch 63/100\n",
      "7/7 [==============================] - 0s 9ms/step - loss: 48207.3008 - mean_absolute_error: 175.3640 - val_loss: 78095.1953 - val_mean_absolute_error: 269.7957\n",
      "Epoch 64/100\n",
      "7/7 [==============================] - 0s 10ms/step - loss: 51657.7070 - mean_absolute_error: 185.4084 - val_loss: 83880.1406 - val_mean_absolute_error: 280.7964\n",
      "Epoch 65/100\n",
      "7/7 [==============================] - 0s 9ms/step - loss: 51072.4180 - mean_absolute_error: 181.6212 - val_loss: 74662.9766 - val_mean_absolute_error: 263.3853\n",
      "Epoch 66/100\n",
      "7/7 [==============================] - 0s 9ms/step - loss: 49631.6406 - mean_absolute_error: 178.8116 - val_loss: 87306.0469 - val_mean_absolute_error: 286.8226\n",
      "Epoch 67/100\n",
      "7/7 [==============================] - 0s 9ms/step - loss: 46556.4531 - mean_absolute_error: 170.9488 - val_loss: 68465.3203 - val_mean_absolute_error: 251.3332\n",
      "Epoch 68/100\n",
      "7/7 [==============================] - 0s 9ms/step - loss: 45797.2695 - mean_absolute_error: 172.6461 - val_loss: 66676.9766 - val_mean_absolute_error: 248.0680\n",
      "Epoch 69/100\n",
      "7/7 [==============================] - 0s 10ms/step - loss: 42412.2773 - mean_absolute_error: 163.9553 - val_loss: 69334.6094 - val_mean_absolute_error: 253.6613\n",
      "Epoch 70/100\n",
      "7/7 [==============================] - 0s 10ms/step - loss: 41340.0508 - mean_absolute_error: 162.2101 - val_loss: 67852.9688 - val_mean_absolute_error: 251.1002\n",
      "Epoch 71/100\n",
      "7/7 [==============================] - 0s 10ms/step - loss: 39525.2188 - mean_absolute_error: 157.6907 - val_loss: 62982.8633 - val_mean_absolute_error: 240.6857\n",
      "Epoch 72/100\n",
      "7/7 [==============================] - 0s 10ms/step - loss: 37006.6875 - mean_absolute_error: 150.8014 - val_loss: 57292.6484 - val_mean_absolute_error: 228.8827\n",
      "Epoch 73/100\n",
      "7/7 [==============================] - 0s 10ms/step - loss: 35271.6836 - mean_absolute_error: 146.4822 - val_loss: 58498.8477 - val_mean_absolute_error: 231.8280\n",
      "Epoch 74/100\n",
      "7/7 [==============================] - 0s 10ms/step - loss: 34623.7383 - mean_absolute_error: 146.0407 - val_loss: 50535.7695 - val_mean_absolute_error: 213.7351\n",
      "Epoch 75/100\n",
      "7/7 [==============================] - 0s 10ms/step - loss: 33249.9062 - mean_absolute_error: 141.9839 - val_loss: 48324.2578 - val_mean_absolute_error: 208.5241\n",
      "Epoch 76/100\n",
      "7/7 [==============================] - 0s 9ms/step - loss: 33167.6523 - mean_absolute_error: 142.4670 - val_loss: 40696.3633 - val_mean_absolute_error: 188.6837\n",
      "Epoch 77/100\n",
      "7/7 [==============================] - 0s 9ms/step - loss: 31195.1719 - mean_absolute_error: 136.2942 - val_loss: 38656.0898 - val_mean_absolute_error: 183.3395\n",
      "Epoch 78/100\n",
      "7/7 [==============================] - 0s 9ms/step - loss: 32571.5645 - mean_absolute_error: 145.6572 - val_loss: 47626.7500 - val_mean_absolute_error: 207.9443\n",
      "Epoch 79/100\n",
      "7/7 [==============================] - 0s 10ms/step - loss: 31829.0840 - mean_absolute_error: 139.9253 - val_loss: 40737.1523 - val_mean_absolute_error: 190.2197\n",
      "Epoch 80/100\n",
      "7/7 [==============================] - 0s 10ms/step - loss: 31793.0820 - mean_absolute_error: 139.9417 - val_loss: 29161.4551 - val_mean_absolute_error: 154.5211\n",
      "Epoch 81/100\n",
      "7/7 [==============================] - 0s 10ms/step - loss: 30483.7676 - mean_absolute_error: 135.6470 - val_loss: 34160.6758 - val_mean_absolute_error: 171.3640\n",
      "Epoch 82/100\n",
      "7/7 [==============================] - 0s 9ms/step - loss: 26689.6973 - mean_absolute_error: 126.0513 - val_loss: 38498.8359 - val_mean_absolute_error: 184.9040\n",
      "Epoch 83/100\n",
      "7/7 [==============================] - 0s 10ms/step - loss: 26336.6816 - mean_absolute_error: 122.6413 - val_loss: 26873.1152 - val_mean_absolute_error: 148.3788\n",
      "Epoch 84/100\n",
      "7/7 [==============================] - 0s 9ms/step - loss: 24401.5254 - mean_absolute_error: 117.8122 - val_loss: 25682.3496 - val_mean_absolute_error: 144.4188\n",
      "Epoch 85/100\n",
      "7/7 [==============================] - 0s 10ms/step - loss: 23900.3594 - mean_absolute_error: 116.9790 - val_loss: 24292.2617 - val_mean_absolute_error: 139.6765\n",
      "Epoch 86/100\n",
      "7/7 [==============================] - 0s 10ms/step - loss: 23196.1680 - mean_absolute_error: 114.3812 - val_loss: 23983.6992 - val_mean_absolute_error: 139.0573\n",
      "Epoch 87/100\n",
      "7/7 [==============================] - 0s 9ms/step - loss: 22852.1973 - mean_absolute_error: 113.3896 - val_loss: 22721.2852 - val_mean_absolute_error: 134.5836\n",
      "Epoch 88/100\n",
      "7/7 [==============================] - 0s 10ms/step - loss: 22096.5371 - mean_absolute_error: 110.4241 - val_loss: 20538.6445 - val_mean_absolute_error: 125.0666\n",
      "Epoch 89/100\n",
      "7/7 [==============================] - 0s 9ms/step - loss: 21985.5352 - mean_absolute_error: 109.9637 - val_loss: 21749.6719 - val_mean_absolute_error: 130.9874\n",
      "Epoch 90/100\n",
      "7/7 [==============================] - 0s 10ms/step - loss: 22127.0488 - mean_absolute_error: 110.3206 - val_loss: 25173.6348 - val_mean_absolute_error: 144.1654\n",
      "Epoch 91/100\n",
      "7/7 [==============================] - 0s 9ms/step - loss: 22072.7637 - mean_absolute_error: 110.5116 - val_loss: 19556.4590 - val_mean_absolute_error: 121.9926\n",
      "Epoch 92/100\n",
      "7/7 [==============================] - 0s 9ms/step - loss: 20998.3828 - mean_absolute_error: 106.7826 - val_loss: 17569.8301 - val_mean_absolute_error: 115.1095\n",
      "Epoch 93/100\n",
      "7/7 [==============================] - 0s 9ms/step - loss: 21320.6230 - mean_absolute_error: 107.9674 - val_loss: 14635.4824 - val_mean_absolute_error: 104.7737\n",
      "Epoch 94/100\n",
      "7/7 [==============================] - 0s 9ms/step - loss: 21412.7793 - mean_absolute_error: 110.4751 - val_loss: 15311.2783 - val_mean_absolute_error: 107.3364\n",
      "Epoch 95/100\n",
      "7/7 [==============================] - 0s 10ms/step - loss: 24061.7461 - mean_absolute_error: 119.3358 - val_loss: 22125.6016 - val_mean_absolute_error: 134.3586\n",
      "Epoch 96/100\n",
      "7/7 [==============================] - 0s 9ms/step - loss: 21812.8750 - mean_absolute_error: 113.2764 - val_loss: 15087.0049 - val_mean_absolute_error: 107.0018\n",
      "Epoch 97/100\n",
      "7/7 [==============================] - 0s 11ms/step - loss: 20754.4805 - mean_absolute_error: 106.1045 - val_loss: 11314.0020 - val_mean_absolute_error: 92.0425\n",
      "Epoch 98/100\n",
      "7/7 [==============================] - 0s 9ms/step - loss: 21137.5156 - mean_absolute_error: 109.2780 - val_loss: 14575.9971 - val_mean_absolute_error: 105.2862\n",
      "Epoch 99/100\n",
      "7/7 [==============================] - 0s 10ms/step - loss: 19595.0098 - mean_absolute_error: 103.7563 - val_loss: 13244.9844 - val_mean_absolute_error: 99.9315\n",
      "Epoch 100/100\n",
      "7/7 [==============================] - 0s 9ms/step - loss: 19576.1074 - mean_absolute_error: 102.9246 - val_loss: 14290.6875 - val_mean_absolute_error: 104.5295\n"
     ]
    },
    {
     "data": {
      "text/plain": [
       "<keras.callbacks.History at 0x1693dbe80>"
      ]
     },
     "execution_count": 32,
     "metadata": {},
     "output_type": "execute_result"
    }
   ],
   "source": [
    "from tensorflow.keras.models import Sequential\n",
    "from tensorflow.keras.optimizers import Adam\n",
    "from tensorflow.keras import layers\n",
    "\n",
    "model = Sequential([layers.Input((3, 1)),\n",
    "                   layers.LSTM(64),\n",
    "                   layers.Dense(32, activation='relu'),\n",
    "                   layers.Dense(32, activation='relu'),\n",
    "                   layers.Dense(1)])\n",
    "\n",
    "model.compile(loss='mse',\n",
    "             optimizer=Adam(learning_rate=0.001),\n",
    "             metrics=['mean_absolute_error'])\n",
    "\n",
    "model.fit(X_train, y_train, validation_data=(X_val, y_val), epochs=100)"
   ]
  },
  {
   "cell_type": "code",
   "execution_count": 33,
   "id": "524c24ea",
   "metadata": {},
   "outputs": [
    {
     "name": "stderr",
     "output_type": "stream",
     "text": [
      "2022-06-19 19:23:09.474460: I tensorflow/core/grappler/optimizers/custom_graph_optimizer_registry.cc:113] Plugin optimizer for device_type GPU is enabled.\n",
      "2022-06-19 19:23:09.510355: I tensorflow/core/grappler/optimizers/custom_graph_optimizer_registry.cc:113] Plugin optimizer for device_type GPU is enabled.\n"
     ]
    },
    {
     "data": {
      "text/plain": [
       "<matplotlib.legend.Legend at 0x1678c63d0>"
      ]
     },
     "execution_count": 33,
     "metadata": {},
     "output_type": "execute_result"
    },
    {
     "data": {
      "image/png": "[encoded data removed]",
      "text/plain": [
       "<Figure size 432x288 with 1 Axes>"
      ]
     },
     "metadata": {
      "needs_background": "light"
     },
     "output_type": "display_data"
    }
   ],
   "source": [
    "train_predictions = model.predict(X_train).flatten()\n",
    "\n",
    "plt.plot(dates_train, train_predictions)\n",
    "plt.plot(dates_train, y_train)\n",
    "plt.xticks(rotation=45)\n",
    "plt.legend(['Training Predictions', 'Training Observations'])"
   ]
  },
  {
   "cell_type": "code",
   "execution_count": 34,
   "id": "8972cbb3",
   "metadata": {},
   "outputs": [
    {
     "data": {
      "text/html": [
       "<div>\n",
       "<style scoped>\n",
       "    .dataframe tbody tr th:only-of-type {\n",
       "        vertical-align: middle;\n",
       "    }\n",
       "\n",
       "    .dataframe tbody tr th {\n",
       "        vertical-align: top;\n",
       "    }\n",
       "\n",
       "    .dataframe thead th {\n",
       "        text-align: right;\n",
       "    }\n",
       "</style>\n",
       "<table border=\"1\" class=\"dataframe\">\n",
       "  <thead>\n",
       "    <tr style=\"text-align: right;\">\n",
       "      <th></th>\n",
       "      <th>Date</th>\n",
       "      <th>Target(Close)</th>\n",
       "      <th>Prediction</th>\n",
       "    </tr>\n",
       "  </thead>\n",
       "  <tbody>\n",
       "    <tr>\n",
       "      <th>0</th>\n",
       "      <td>2021-04-30</td>\n",
       "      <td>972.0</td>\n",
       "      <td>863.992615</td>\n",
       "    </tr>\n",
       "    <tr>\n",
       "      <th>1</th>\n",
       "      <td>2021-05-01</td>\n",
       "      <td>972.0</td>\n",
       "      <td>943.289612</td>\n",
       "    </tr>\n",
       "    <tr>\n",
       "      <th>2</th>\n",
       "      <td>2021-05-03</td>\n",
       "      <td>972.0</td>\n",
       "      <td>982.946777</td>\n",
       "    </tr>\n",
       "    <tr>\n",
       "      <th>3</th>\n",
       "      <td>2021-05-06</td>\n",
       "      <td>972.0</td>\n",
       "      <td>983.135132</td>\n",
       "    </tr>\n",
       "    <tr>\n",
       "      <th>4</th>\n",
       "      <td>2021-05-07</td>\n",
       "      <td>972.0</td>\n",
       "      <td>983.135132</td>\n",
       "    </tr>\n",
       "    <tr>\n",
       "      <th>...</th>\n",
       "      <td>...</td>\n",
       "      <td>...</td>\n",
       "      <td>...</td>\n",
       "    </tr>\n",
       "    <tr>\n",
       "      <th>199</th>\n",
       "      <td>2022-02-12</td>\n",
       "      <td>1188.0</td>\n",
       "      <td>1095.523682</td>\n",
       "    </tr>\n",
       "    <tr>\n",
       "      <th>200</th>\n",
       "      <td>2022-02-14</td>\n",
       "      <td>1188.0</td>\n",
       "      <td>1102.373291</td>\n",
       "    </tr>\n",
       "    <tr>\n",
       "      <th>201</th>\n",
       "      <td>2022-02-15</td>\n",
       "      <td>1188.0</td>\n",
       "      <td>1102.402222</td>\n",
       "    </tr>\n",
       "    <tr>\n",
       "      <th>202</th>\n",
       "      <td>2022-02-17</td>\n",
       "      <td>1134.0</td>\n",
       "      <td>1102.402222</td>\n",
       "    </tr>\n",
       "    <tr>\n",
       "      <th>203</th>\n",
       "      <td>2022-02-18</td>\n",
       "      <td>1188.0</td>\n",
       "      <td>1087.645020</td>\n",
       "    </tr>\n",
       "  </tbody>\n",
       "</table>\n",
       "<p>204 rows × 3 columns</p>\n",
       "</div>"
      ],
      "text/plain": [
       "          Date  Target(Close)   Prediction\n",
       "0   2021-04-30          972.0   863.992615\n",
       "1   2021-05-01          972.0   943.289612\n",
       "2   2021-05-03          972.0   982.946777\n",
       "3   2021-05-06          972.0   983.135132\n",
       "4   2021-05-07          972.0   983.135132\n",
       "..         ...            ...          ...\n",
       "199 2022-02-12         1188.0  1095.523682\n",
       "200 2022-02-14         1188.0  1102.373291\n",
       "201 2022-02-15         1188.0  1102.402222\n",
       "202 2022-02-17         1134.0  1102.402222\n",
       "203 2022-02-18         1188.0  1087.645020\n",
       "\n",
       "[204 rows x 3 columns]"
      ]
     },
     "execution_count": 34,
     "metadata": {},
     "output_type": "execute_result"
    }
   ],
   "source": [
    "pd.DataFrame({'Date':dates[:q_80], 'Target(Close)':y_train,'Prediction':train_predictions})"
   ]
  },
  {
   "cell_type": "code",
   "execution_count": 35,
   "id": "6530731c",
   "metadata": {},
   "outputs": [
    {
     "data": {
      "text/plain": [
       "<matplotlib.legend.Legend at 0x1678c64c0>"
      ]
     },
     "execution_count": 35,
     "metadata": {},
     "output_type": "execute_result"
    },
    {
     "data": {
      "image/png": "[encoded data removed]",
      "text/plain": [
       "<Figure size 432x288 with 1 Axes>"
      ]
     },
     "metadata": {
      "needs_background": "light"
     },
     "output_type": "display_data"
    }
   ],
   "source": [
    "val_predictions = model.predict(X_val).flatten()\n",
    "\n",
    "plt.plot(dates_val, val_predictions)\n",
    "plt.plot(dates_val, y_val)\n",
    "plt.xticks(rotation=45)\n",
    "plt.legend(['Validation Predictions', 'Validation Observations'])"
   ]
  },
  {
   "cell_type": "code",
   "execution_count": 36,
   "id": "7622f4ba",
   "metadata": {},
   "outputs": [
    {
     "data": {
      "text/plain": [
       "<matplotlib.legend.Legend at 0x1767030a0>"
      ]
     },
     "execution_count": 36,
     "metadata": {},
     "output_type": "execute_result"
    },
    {
     "data": {
      "image/png": "[encoded data removed]",
      "text/plain": [
       "<Figure size 432x288 with 1 Axes>"
      ]
     },
     "metadata": {
      "needs_background": "light"
     },
     "output_type": "display_data"
    }
   ],
   "source": [
    "test_predictions = model.predict(X_test).flatten()\n",
    "\n",
    "plt.plot(dates_test, test_predictions)\n",
    "plt.plot(dates_test, y_test)\n",
    "plt.xticks(rotation=45)\n",
    "plt.legend(['Testing Predictions','Testing Observations'])"
   ]
  },
  {
   "cell_type": "code",
   "execution_count": 37,
   "id": "bba33c36",
   "metadata": {},
   "outputs": [
    {
     "data": {
      "text/plain": [
       "<matplotlib.legend.Legend at 0x12c19e160>"
      ]
     },
     "execution_count": 37,
     "metadata": {},
     "output_type": "execute_result"
    },
    {
     "data": {
      "image/png": "[encoded data removed]",
      "text/plain": [
       "<Figure size 432x288 with 1 Axes>"
      ]
     },
     "metadata": {
      "needs_background": "light"
     },
     "output_type": "display_data"
    }
   ],
   "source": [
    "plt.plot(dates_train, train_predictions)\n",
    "plt.plot(dates_train, y_train)\n",
    "plt.plot(dates_val, val_predictions)\n",
    "plt.plot(dates_val, y_val)\n",
    "plt.plot(dates_test, test_predictions)\n",
    "plt.plot(dates_test, y_test)\n",
    "plt.legend(['Training Predictions',\n",
    "           'Training Observations',\n",
    "           'Validation Predictions',\n",
    "           'Validation Observations',\n",
    "           'Testing Predictions',\n",
    "           'Testing Observations'])"
   ]
  },
  {
   "cell_type": "code",
   "execution_count": 38,
   "id": "46bc3956",
   "metadata": {},
   "outputs": [],
   "source": [
    "from copy import deepcopy"
   ]
  },
  {
   "cell_type": "code",
   "execution_count": 39,
   "id": "2fc14b0a",
   "metadata": {},
   "outputs": [],
   "source": [
    "recursive_predictions = []\n",
    "recursive_dates = np.concatenate([dates_val, dates_test])\n",
    "\n",
    "for target_date in recursive_dates:\n",
    "    last_window = deepcopy(X_train[-1])\n",
    "    next_prediction = model.predict(np.array([last_window])).flatten()\n",
    "    recursive_predictions.append(next_prediction)\n",
    "    last_window[-1] = next_prediction"
   ]
  },
  {
   "cell_type": "code",
   "execution_count": 40,
   "id": "7a12cbbe",
   "metadata": {},
   "outputs": [
    {
     "data": {
      "text/plain": [
       "<matplotlib.legend.Legend at 0x29f60f6a0>"
      ]
     },
     "execution_count": 40,
     "metadata": {},
     "output_type": "execute_result"
    },
    {
     "data": {
      "image/png": "[encoded data removed]",
      "text/plain": [
       "<Figure size 432x288 with 1 Axes>"
      ]
     },
     "metadata": {
      "needs_background": "light"
     },
     "output_type": "display_data"
    }
   ],
   "source": [
    "plt.plot(dates_train, train_predictions)\n",
    "plt.plot(dates_train, y_train)\n",
    "plt.plot(dates_val, val_predictions)\n",
    "plt.plot(dates_val, y_val)\n",
    "plt.plot(dates_test, test_predictions)\n",
    "plt.plot(dates_test, y_test)\n",
    "plt.plot(recursive_dates, recursive_predictions)\n",
    "plt.legend(['Training Predictions',\n",
    "           'Training Observations',\n",
    "           'Validation Predictions',\n",
    "           'Validation Observations',\n",
    "           'Testing Predictions',\n",
    "           'Testing Observations',\n",
    "           'Recursive Predictions'])"
   ]
  }
 ],
 "metadata": {
  "kernelspec": {
   "display_name": "Python 3 (ipykernel)",
   "language": "python",
   "name": "python3"
  },
  "language_info": {
   "codemirror_mode": {
    "name": "ipython",
    "version": 3
   },
   "file_extension": ".py",
   "mimetype": "text/x-python",
   "name": "python",
   "nbconvert_exporter": "python",
   "pygments_lexer": "ipython3",
   "version": "3.9.13"
  }
 },
 "nbformat": 4,
 "nbformat_minor": 5
}
