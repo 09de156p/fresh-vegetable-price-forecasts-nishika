{
 "cells": [
  {
   "cell_type": "markdown",
   "id": "412adf6d-c768-44b7-8ad1-d9c0f7180352",
   "metadata": {},
   "source": [
    "# データの読み込み"
   ]
  },
  {
   "cell_type": "code",
   "execution_count": 1,
   "id": "317bdce6-baa9-4284-a1e0-6ba9f9f95706",
   "metadata": {},
   "outputs": [],
   "source": [
    "import pandas as pd"
   ]
  },
  {
   "cell_type": "code",
   "execution_count": 2,
   "id": "5e8b21ec-429f-4e9e-9168-040b8418cff8",
   "metadata": {},
   "outputs": [],
   "source": [
    "import numpy as np"
   ]
  },
  {
   "cell_type": "code",
   "execution_count": 3,
   "id": "a22b089f-7ac9-427c-9a0a-8ee054e014df",
   "metadata": {},
   "outputs": [],
   "source": [
    "import matplotlib.pyplot as plt\n",
    "import japanize_matplotlib"
   ]
  },
  {
   "cell_type": "code",
   "execution_count": 4,
   "id": "fae4b04d-1b9c-4eee-a387-907fcc1adc4c",
   "metadata": {},
   "outputs": [
    {
     "data": {
      "text/plain": [
       "<function seaborn.rcmod.set(*args, **kwargs)>"
      ]
     },
     "execution_count": 4,
     "metadata": {},
     "output_type": "execute_result"
    }
   ],
   "source": [
    "import seaborn as sns\n",
    "sns.set"
   ]
  },
  {
   "cell_type": "code",
   "execution_count": 5,
   "id": "9defa047-985e-4219-bfb6-06f48f694e68",
   "metadata": {},
   "outputs": [],
   "source": [
    "import datetime"
   ]
  },
  {
   "cell_type": "code",
   "execution_count": 6,
   "id": "ecd14bda-e8ce-469c-be39-ab292a6939bc",
   "metadata": {},
   "outputs": [
    {
     "data": {
      "text/html": [
       "<div>\n",
       "<style scoped>\n",
       "    .dataframe tbody tr th:only-of-type {\n",
       "        vertical-align: middle;\n",
       "    }\n",
       "\n",
       "    .dataframe tbody tr th {\n",
       "        vertical-align: top;\n",
       "    }\n",
       "\n",
       "    .dataframe thead th {\n",
       "        text-align: right;\n",
       "    }\n",
       "</style>\n",
       "<table border=\"1\" class=\"dataframe\">\n",
       "  <thead>\n",
       "    <tr style=\"text-align: right;\">\n",
       "      <th></th>\n",
       "      <th>ファイル名</th>\n",
       "      <th>内容</th>\n",
       "    </tr>\n",
       "  </thead>\n",
       "  <tbody>\n",
       "    <tr>\n",
       "      <th>0</th>\n",
       "      <td>train.csv</td>\n",
       "      <td>訓練用データ</td>\n",
       "    </tr>\n",
       "    <tr>\n",
       "      <th>1</th>\n",
       "      <td>test.csv</td>\n",
       "      <td>評価用データ</td>\n",
       "    </tr>\n",
       "    <tr>\n",
       "      <th>2</th>\n",
       "      <td>weather.csv</td>\n",
       "      <td>天候データ</td>\n",
       "    </tr>\n",
       "    <tr>\n",
       "      <th>3</th>\n",
       "      <td>sample_submission.csv</td>\n",
       "      <td>投稿データフォーマット</td>\n",
       "    </tr>\n",
       "  </tbody>\n",
       "</table>\n",
       "</div>"
      ],
      "text/plain": [
       "                   ファイル名           内容\n",
       "0              train.csv       訓練用データ\n",
       "1               test.csv       評価用データ\n",
       "2            weather.csv        天候データ\n",
       "3  sample_submission.csv  投稿データフォーマット"
      ]
     },
     "execution_count": 6,
     "metadata": {},
     "output_type": "execute_result"
    }
   ],
   "source": [
    "pd.read_excel('data_explanation.xlsx', sheet_name=0)"
   ]
  },
  {
   "cell_type": "code",
   "execution_count": 7,
   "id": "80b72520-571b-4b6d-ad3d-20fdf4baeed2",
   "metadata": {},
   "outputs": [
    {
     "data": {
      "text/html": [
       "<div>\n",
       "<style scoped>\n",
       "    .dataframe tbody tr th:only-of-type {\n",
       "        vertical-align: middle;\n",
       "    }\n",
       "\n",
       "    .dataframe tbody tr th {\n",
       "        vertical-align: top;\n",
       "    }\n",
       "\n",
       "    .dataframe thead th {\n",
       "        text-align: right;\n",
       "    }\n",
       "</style>\n",
       "<table border=\"1\" class=\"dataframe\">\n",
       "  <thead>\n",
       "    <tr style=\"text-align: right;\">\n",
       "      <th></th>\n",
       "      <th>ファイル名</th>\n",
       "      <th>カラム名</th>\n",
       "      <th>内容</th>\n",
       "    </tr>\n",
       "  </thead>\n",
       "  <tbody>\n",
       "    <tr>\n",
       "      <th>0</th>\n",
       "      <td>train.csv</td>\n",
       "      <td>kind</td>\n",
       "      <td>野菜の種類</td>\n",
       "    </tr>\n",
       "    <tr>\n",
       "      <th>1</th>\n",
       "      <td>NaN</td>\n",
       "      <td>date</td>\n",
       "      <td>日付</td>\n",
       "    </tr>\n",
       "    <tr>\n",
       "      <th>2</th>\n",
       "      <td>NaN</td>\n",
       "      <td>amount</td>\n",
       "      <td>卸売数量合計（合計の意味は、複数産地のものがあればその合計をとっているの意味）</td>\n",
       "    </tr>\n",
       "    <tr>\n",
       "      <th>3</th>\n",
       "      <td>NaN</td>\n",
       "      <td>mode_price</td>\n",
       "      <td>卸売価格中央値（中央値の意味は、複数産地のものがあればその中央値をとっているの意味）</td>\n",
       "    </tr>\n",
       "    <tr>\n",
       "      <th>4</th>\n",
       "      <td>NaN</td>\n",
       "      <td>area</td>\n",
       "      <td>産地。複数産地のものが売られていた場合は\"_\"で結合</td>\n",
       "    </tr>\n",
       "    <tr>\n",
       "      <th>5</th>\n",
       "      <td>test.csv</td>\n",
       "      <td>kind</td>\n",
       "      <td>野菜の種類</td>\n",
       "    </tr>\n",
       "    <tr>\n",
       "      <th>6</th>\n",
       "      <td>NaN</td>\n",
       "      <td>date</td>\n",
       "      <td>日付</td>\n",
       "    </tr>\n",
       "    <tr>\n",
       "      <th>7</th>\n",
       "      <td>NaN</td>\n",
       "      <td>area</td>\n",
       "      <td>産地。複数産地のものが売られていた場合は\"_\"で結合</td>\n",
       "    </tr>\n",
       "    <tr>\n",
       "      <th>8</th>\n",
       "      <td>weather.csv</td>\n",
       "      <td>date</td>\n",
       "      <td>日付</td>\n",
       "    </tr>\n",
       "    <tr>\n",
       "      <th>9</th>\n",
       "      <td>NaN</td>\n",
       "      <td>mean_temp</td>\n",
       "      <td>平均気温（℃）</td>\n",
       "    </tr>\n",
       "    <tr>\n",
       "      <th>10</th>\n",
       "      <td>NaN</td>\n",
       "      <td>max_temp</td>\n",
       "      <td>最高気温（℃）</td>\n",
       "    </tr>\n",
       "    <tr>\n",
       "      <th>11</th>\n",
       "      <td>NaN</td>\n",
       "      <td>max_temp_time</td>\n",
       "      <td>最高気温（℃）（時分）</td>\n",
       "    </tr>\n",
       "    <tr>\n",
       "      <th>12</th>\n",
       "      <td>NaN</td>\n",
       "      <td>min_temp</td>\n",
       "      <td>最低気温（℃）</td>\n",
       "    </tr>\n",
       "    <tr>\n",
       "      <th>13</th>\n",
       "      <td>NaN</td>\n",
       "      <td>min_temp_time</td>\n",
       "      <td>最低気温（℃）（時分）</td>\n",
       "    </tr>\n",
       "    <tr>\n",
       "      <th>14</th>\n",
       "      <td>NaN</td>\n",
       "      <td>sum_rain</td>\n",
       "      <td>降水量合計（mm）</td>\n",
       "    </tr>\n",
       "    <tr>\n",
       "      <th>15</th>\n",
       "      <td>NaN</td>\n",
       "      <td>sun_time</td>\n",
       "      <td>日照時間（時間）</td>\n",
       "    </tr>\n",
       "    <tr>\n",
       "      <th>16</th>\n",
       "      <td>NaN</td>\n",
       "      <td>mean_humid</td>\n",
       "      <td>平均湿度（%）</td>\n",
       "    </tr>\n",
       "    <tr>\n",
       "      <th>17</th>\n",
       "      <td>NaN</td>\n",
       "      <td>area</td>\n",
       "      <td>エリア</td>\n",
       "    </tr>\n",
       "  </tbody>\n",
       "</table>\n",
       "</div>"
      ],
      "text/plain": [
       "          ファイル名           カラム名                                          内容\n",
       "0     train.csv           kind                                       野菜の種類\n",
       "1           NaN           date                                          日付\n",
       "2           NaN         amount     卸売数量合計（合計の意味は、複数産地のものがあればその合計をとっているの意味）\n",
       "3           NaN     mode_price  卸売価格中央値（中央値の意味は、複数産地のものがあればその中央値をとっているの意味）\n",
       "4           NaN           area                  産地。複数産地のものが売られていた場合は\"_\"で結合\n",
       "5      test.csv           kind                                       野菜の種類\n",
       "6           NaN           date                                          日付\n",
       "7           NaN           area                  産地。複数産地のものが売られていた場合は\"_\"で結合\n",
       "8   weather.csv           date                                          日付\n",
       "9           NaN      mean_temp                                     平均気温（℃）\n",
       "10          NaN       max_temp                                     最高気温（℃）\n",
       "11          NaN  max_temp_time                                 最高気温（℃）（時分）\n",
       "12          NaN       min_temp                                     最低気温（℃）\n",
       "13          NaN  min_temp_time                                 最低気温（℃）（時分）\n",
       "14          NaN       sum_rain                                   降水量合計（mm）\n",
       "15          NaN       sun_time                                    日照時間（時間）\n",
       "16          NaN     mean_humid                                     平均湿度（%）\n",
       "17          NaN           area                                         エリア"
      ]
     },
     "execution_count": 7,
     "metadata": {},
     "output_type": "execute_result"
    }
   ],
   "source": [
    "pd.read_excel('data_explanation.xlsx', sheet_name=1)"
   ]
  },
  {
   "cell_type": "code",
   "execution_count": 8,
   "id": "57fb34cb-dbb2-42c0-8b9b-8c92952428b4",
   "metadata": {},
   "outputs": [
    {
     "name": "stdout",
     "output_type": "stream",
     "text": [
      "['データ説明', '\\u3000カラム説明']\n"
     ]
    }
   ],
   "source": [
    "import openpyxl\n",
    "data_exp = openpyxl.load_workbook('data_explanation.xlsx')\n",
    "print(data_exp.sheetnames)"
   ]
  },
  {
   "cell_type": "code",
   "execution_count": 9,
   "id": "440300b3-b036-4434-948b-b9e4286e4d7c",
   "metadata": {},
   "outputs": [
    {
     "data": {
      "text/plain": [
       "<Worksheet \"データ説明\">"
      ]
     },
     "execution_count": 9,
     "metadata": {},
     "output_type": "execute_result"
    }
   ],
   "source": [
    "data_exp[data_exp.sheetnames[0]]"
   ]
  },
  {
   "cell_type": "code",
   "execution_count": 10,
   "id": "817d03ca-3bd2-43ec-a34e-1c746b04b7d3",
   "metadata": {},
   "outputs": [
    {
     "data": {
      "text/html": [
       "<div>\n",
       "<style scoped>\n",
       "    .dataframe tbody tr th:only-of-type {\n",
       "        vertical-align: middle;\n",
       "    }\n",
       "\n",
       "    .dataframe tbody tr th {\n",
       "        vertical-align: top;\n",
       "    }\n",
       "\n",
       "    .dataframe thead th {\n",
       "        text-align: right;\n",
       "    }\n",
       "</style>\n",
       "<table border=\"1\" class=\"dataframe\">\n",
       "  <thead>\n",
       "    <tr style=\"text-align: right;\">\n",
       "      <th></th>\n",
       "      <th>kind</th>\n",
       "      <th>date</th>\n",
       "      <th>amount</th>\n",
       "      <th>mode_price</th>\n",
       "      <th>area</th>\n",
       "    </tr>\n",
       "  </thead>\n",
       "  <tbody>\n",
       "    <tr>\n",
       "      <th>0</th>\n",
       "      <td>だいこん</td>\n",
       "      <td>20051107</td>\n",
       "      <td>201445</td>\n",
       "      <td>735.0</td>\n",
       "      <td>千葉</td>\n",
       "    </tr>\n",
       "    <tr>\n",
       "      <th>1</th>\n",
       "      <td>だいこん</td>\n",
       "      <td>20051108</td>\n",
       "      <td>189660</td>\n",
       "      <td>840.0</td>\n",
       "      <td>千葉_各地_青森</td>\n",
       "    </tr>\n",
       "    <tr>\n",
       "      <th>2</th>\n",
       "      <td>だいこん</td>\n",
       "      <td>20051110</td>\n",
       "      <td>218166</td>\n",
       "      <td>735.0</td>\n",
       "      <td>千葉_各地_青森</td>\n",
       "    </tr>\n",
       "    <tr>\n",
       "      <th>3</th>\n",
       "      <td>だいこん</td>\n",
       "      <td>20051111</td>\n",
       "      <td>182624</td>\n",
       "      <td>682.5</td>\n",
       "      <td>千葉_青森</td>\n",
       "    </tr>\n",
       "    <tr>\n",
       "      <th>4</th>\n",
       "      <td>だいこん</td>\n",
       "      <td>20051112</td>\n",
       "      <td>220691</td>\n",
       "      <td>682.5</td>\n",
       "      <td>千葉_青森</td>\n",
       "    </tr>\n",
       "    <tr>\n",
       "      <th>...</th>\n",
       "      <td>...</td>\n",
       "      <td>...</td>\n",
       "      <td>...</td>\n",
       "      <td>...</td>\n",
       "      <td>...</td>\n",
       "    </tr>\n",
       "    <tr>\n",
       "      <th>97777</th>\n",
       "      <td>しめじ</td>\n",
       "      <td>20170526</td>\n",
       "      <td>17231</td>\n",
       "      <td>48.5</td>\n",
       "      <td>新潟_長野</td>\n",
       "    </tr>\n",
       "    <tr>\n",
       "      <th>97778</th>\n",
       "      <td>しめじ</td>\n",
       "      <td>20170527</td>\n",
       "      <td>17105</td>\n",
       "      <td>48.5</td>\n",
       "      <td>新潟_長野</td>\n",
       "    </tr>\n",
       "    <tr>\n",
       "      <th>97779</th>\n",
       "      <td>しめじ</td>\n",
       "      <td>20170529</td>\n",
       "      <td>12406</td>\n",
       "      <td>48.5</td>\n",
       "      <td>新潟_長野</td>\n",
       "    </tr>\n",
       "    <tr>\n",
       "      <th>97780</th>\n",
       "      <td>しめじ</td>\n",
       "      <td>20170530</td>\n",
       "      <td>12320</td>\n",
       "      <td>48.5</td>\n",
       "      <td>新潟_長野</td>\n",
       "    </tr>\n",
       "    <tr>\n",
       "      <th>97781</th>\n",
       "      <td>しめじ</td>\n",
       "      <td>20170531</td>\n",
       "      <td>11635</td>\n",
       "      <td>43.0</td>\n",
       "      <td>新潟_長野</td>\n",
       "    </tr>\n",
       "  </tbody>\n",
       "</table>\n",
       "<p>97782 rows × 5 columns</p>\n",
       "</div>"
      ],
      "text/plain": [
       "       kind      date  amount  mode_price      area\n",
       "0      だいこん  20051107  201445       735.0        千葉\n",
       "1      だいこん  20051108  189660       840.0  千葉_各地_青森\n",
       "2      だいこん  20051110  218166       735.0  千葉_各地_青森\n",
       "3      だいこん  20051111  182624       682.5     千葉_青森\n",
       "4      だいこん  20051112  220691       682.5     千葉_青森\n",
       "...     ...       ...     ...         ...       ...\n",
       "97777   しめじ  20170526   17231        48.5     新潟_長野\n",
       "97778   しめじ  20170527   17105        48.5     新潟_長野\n",
       "97779   しめじ  20170529   12406        48.5     新潟_長野\n",
       "97780   しめじ  20170530   12320        48.5     新潟_長野\n",
       "97781   しめじ  20170531   11635        43.0     新潟_長野\n",
       "\n",
       "[97782 rows x 5 columns]"
      ]
     },
     "execution_count": 10,
     "metadata": {},
     "output_type": "execute_result"
    }
   ],
   "source": [
    "train_raw = pd.read_csv('train.csv')\n",
    "train_raw"
   ]
  },
  {
   "cell_type": "code",
   "execution_count": 11,
   "id": "8bb6404d-5c32-469e-91b9-27332a24a0b1",
   "metadata": {},
   "outputs": [
    {
     "data": {
      "text/html": [
       "<div>\n",
       "<style scoped>\n",
       "    .dataframe tbody tr th:only-of-type {\n",
       "        vertical-align: middle;\n",
       "    }\n",
       "\n",
       "    .dataframe tbody tr th {\n",
       "        vertical-align: top;\n",
       "    }\n",
       "\n",
       "    .dataframe thead th {\n",
       "        text-align: right;\n",
       "    }\n",
       "</style>\n",
       "<table border=\"1\" class=\"dataframe\">\n",
       "  <thead>\n",
       "    <tr style=\"text-align: right;\">\n",
       "      <th></th>\n",
       "      <th>kind</th>\n",
       "      <th>date</th>\n",
       "      <th>area</th>\n",
       "    </tr>\n",
       "  </thead>\n",
       "  <tbody>\n",
       "    <tr>\n",
       "      <th>0</th>\n",
       "      <td>だいこん</td>\n",
       "      <td>20220502</td>\n",
       "      <td>千葉_各地_青森</td>\n",
       "    </tr>\n",
       "    <tr>\n",
       "      <th>1</th>\n",
       "      <td>だいこん</td>\n",
       "      <td>20220506</td>\n",
       "      <td>千葉_各地_青森</td>\n",
       "    </tr>\n",
       "    <tr>\n",
       "      <th>2</th>\n",
       "      <td>だいこん</td>\n",
       "      <td>20220507</td>\n",
       "      <td>千葉_各地_青森</td>\n",
       "    </tr>\n",
       "    <tr>\n",
       "      <th>3</th>\n",
       "      <td>だいこん</td>\n",
       "      <td>20220509</td>\n",
       "      <td>千葉_各地_青森</td>\n",
       "    </tr>\n",
       "    <tr>\n",
       "      <th>4</th>\n",
       "      <td>だいこん</td>\n",
       "      <td>20220510</td>\n",
       "      <td>千葉_各地_青森</td>\n",
       "    </tr>\n",
       "    <tr>\n",
       "      <th>...</th>\n",
       "      <td>...</td>\n",
       "      <td>...</td>\n",
       "      <td>...</td>\n",
       "    </tr>\n",
       "    <tr>\n",
       "      <th>315</th>\n",
       "      <td>ミニトマト</td>\n",
       "      <td>20220526</td>\n",
       "      <td>各地_愛知</td>\n",
       "    </tr>\n",
       "    <tr>\n",
       "      <th>316</th>\n",
       "      <td>ミニトマト</td>\n",
       "      <td>20220527</td>\n",
       "      <td>各地_愛知</td>\n",
       "    </tr>\n",
       "    <tr>\n",
       "      <th>317</th>\n",
       "      <td>ミニトマト</td>\n",
       "      <td>20220528</td>\n",
       "      <td>各地_愛知</td>\n",
       "    </tr>\n",
       "    <tr>\n",
       "      <th>318</th>\n",
       "      <td>ミニトマト</td>\n",
       "      <td>20220530</td>\n",
       "      <td>各地_愛知</td>\n",
       "    </tr>\n",
       "    <tr>\n",
       "      <th>319</th>\n",
       "      <td>ミニトマト</td>\n",
       "      <td>20220531</td>\n",
       "      <td>各地_愛知</td>\n",
       "    </tr>\n",
       "  </tbody>\n",
       "</table>\n",
       "<p>320 rows × 3 columns</p>\n",
       "</div>"
      ],
      "text/plain": [
       "      kind      date      area\n",
       "0     だいこん  20220502  千葉_各地_青森\n",
       "1     だいこん  20220506  千葉_各地_青森\n",
       "2     だいこん  20220507  千葉_各地_青森\n",
       "3     だいこん  20220509  千葉_各地_青森\n",
       "4     だいこん  20220510  千葉_各地_青森\n",
       "..     ...       ...       ...\n",
       "315  ミニトマト  20220526     各地_愛知\n",
       "316  ミニトマト  20220527     各地_愛知\n",
       "317  ミニトマト  20220528     各地_愛知\n",
       "318  ミニトマト  20220530     各地_愛知\n",
       "319  ミニトマト  20220531     各地_愛知\n",
       "\n",
       "[320 rows x 3 columns]"
      ]
     },
     "execution_count": 11,
     "metadata": {},
     "output_type": "execute_result"
    }
   ],
   "source": [
    "test_raw = pd.read_csv('test.csv')\n",
    "test_raw"
   ]
  },
  {
   "cell_type": "code",
   "execution_count": 12,
   "id": "20e4f536-7138-4bc3-a2fe-df7607eb7538",
   "metadata": {},
   "outputs": [
    {
     "data": {
      "text/html": [
       "<div>\n",
       "<style scoped>\n",
       "    .dataframe tbody tr th:only-of-type {\n",
       "        vertical-align: middle;\n",
       "    }\n",
       "\n",
       "    .dataframe tbody tr th {\n",
       "        vertical-align: top;\n",
       "    }\n",
       "\n",
       "    .dataframe thead th {\n",
       "        text-align: right;\n",
       "    }\n",
       "</style>\n",
       "<table border=\"1\" class=\"dataframe\">\n",
       "  <thead>\n",
       "    <tr style=\"text-align: right;\">\n",
       "      <th></th>\n",
       "      <th>date</th>\n",
       "      <th>mean_temp</th>\n",
       "      <th>max_temp</th>\n",
       "      <th>max_temp_time</th>\n",
       "      <th>min_temp</th>\n",
       "      <th>min_temp_time</th>\n",
       "      <th>sum_rain</th>\n",
       "      <th>sun_time</th>\n",
       "      <th>mean_humid</th>\n",
       "      <th>area</th>\n",
       "    </tr>\n",
       "  </thead>\n",
       "  <tbody>\n",
       "    <tr>\n",
       "      <th>0</th>\n",
       "      <td>20041106</td>\n",
       "      <td>13.1</td>\n",
       "      <td>20.1</td>\n",
       "      <td>2004/11/6 12:50</td>\n",
       "      <td>8.1</td>\n",
       "      <td>2004/11/6 05:31</td>\n",
       "      <td>5.0</td>\n",
       "      <td>1.6</td>\n",
       "      <td>77.0</td>\n",
       "      <td>青森</td>\n",
       "    </tr>\n",
       "    <tr>\n",
       "      <th>1</th>\n",
       "      <td>20041107</td>\n",
       "      <td>9.6</td>\n",
       "      <td>12.5</td>\n",
       "      <td>2004/11/7 13:40</td>\n",
       "      <td>5.4</td>\n",
       "      <td>2004/11/7 22:17</td>\n",
       "      <td>0.0</td>\n",
       "      <td>4.1</td>\n",
       "      <td>63.0</td>\n",
       "      <td>青森</td>\n",
       "    </tr>\n",
       "    <tr>\n",
       "      <th>2</th>\n",
       "      <td>20041108</td>\n",
       "      <td>9.0</td>\n",
       "      <td>15.5</td>\n",
       "      <td>2004/11/8 12:51</td>\n",
       "      <td>3.2</td>\n",
       "      <td>2004/11/8 06:28</td>\n",
       "      <td>0.0</td>\n",
       "      <td>8.9</td>\n",
       "      <td>72.0</td>\n",
       "      <td>青森</td>\n",
       "    </tr>\n",
       "    <tr>\n",
       "      <th>3</th>\n",
       "      <td>20041109</td>\n",
       "      <td>12.2</td>\n",
       "      <td>17.7</td>\n",
       "      <td>2004/11/9 14:40</td>\n",
       "      <td>5.7</td>\n",
       "      <td>2004/11/9 02:49</td>\n",
       "      <td>1.5</td>\n",
       "      <td>1.2</td>\n",
       "      <td>85.0</td>\n",
       "      <td>青森</td>\n",
       "    </tr>\n",
       "    <tr>\n",
       "      <th>4</th>\n",
       "      <td>20041110</td>\n",
       "      <td>11.6</td>\n",
       "      <td>16.4</td>\n",
       "      <td>2004/11/10 14:42</td>\n",
       "      <td>6.9</td>\n",
       "      <td>2004/11/10 06:23</td>\n",
       "      <td>0.0</td>\n",
       "      <td>7.5</td>\n",
       "      <td>89.0</td>\n",
       "      <td>青森</td>\n",
       "    </tr>\n",
       "    <tr>\n",
       "      <th>...</th>\n",
       "      <td>...</td>\n",
       "      <td>...</td>\n",
       "      <td>...</td>\n",
       "      <td>...</td>\n",
       "      <td>...</td>\n",
       "      <td>...</td>\n",
       "      <td>...</td>\n",
       "      <td>...</td>\n",
       "      <td>...</td>\n",
       "      <td>...</td>\n",
       "    </tr>\n",
       "    <tr>\n",
       "      <th>204315</th>\n",
       "      <td>20220426</td>\n",
       "      <td>21.3</td>\n",
       "      <td>23.6</td>\n",
       "      <td>2022/4/26 14:27</td>\n",
       "      <td>17.9</td>\n",
       "      <td>2022/4/26 04:17</td>\n",
       "      <td>2.5</td>\n",
       "      <td>0.0</td>\n",
       "      <td>89.0</td>\n",
       "      <td>東京</td>\n",
       "    </tr>\n",
       "    <tr>\n",
       "      <th>204316</th>\n",
       "      <td>20220427</td>\n",
       "      <td>23.0</td>\n",
       "      <td>27.7</td>\n",
       "      <td>2022/4/27 13:12</td>\n",
       "      <td>18.9</td>\n",
       "      <td>2022/4/28 0:00</td>\n",
       "      <td>0.5</td>\n",
       "      <td>1.6</td>\n",
       "      <td>79.0</td>\n",
       "      <td>東京</td>\n",
       "    </tr>\n",
       "    <tr>\n",
       "      <th>204317</th>\n",
       "      <td>20220428</td>\n",
       "      <td>16.9</td>\n",
       "      <td>21.1</td>\n",
       "      <td>2022/4/28 15:03</td>\n",
       "      <td>14.2</td>\n",
       "      <td>2022/4/28 22:40</td>\n",
       "      <td>0.0</td>\n",
       "      <td>5.5</td>\n",
       "      <td>57.0</td>\n",
       "      <td>東京</td>\n",
       "    </tr>\n",
       "    <tr>\n",
       "      <th>204318</th>\n",
       "      <td>20220429</td>\n",
       "      <td>12.9</td>\n",
       "      <td>16.4</td>\n",
       "      <td>2022/4/29 09:21</td>\n",
       "      <td>9.0</td>\n",
       "      <td>2022/4/29 23:55</td>\n",
       "      <td>40.0</td>\n",
       "      <td>0.2</td>\n",
       "      <td>86.0</td>\n",
       "      <td>東京</td>\n",
       "    </tr>\n",
       "    <tr>\n",
       "      <th>204319</th>\n",
       "      <td>20220430</td>\n",
       "      <td>12.6</td>\n",
       "      <td>18.4</td>\n",
       "      <td>2022/4/30 14:49</td>\n",
       "      <td>7.4</td>\n",
       "      <td>2022/4/30 05:28</td>\n",
       "      <td>0.0</td>\n",
       "      <td>12.4</td>\n",
       "      <td>64.0</td>\n",
       "      <td>東京</td>\n",
       "    </tr>\n",
       "  </tbody>\n",
       "</table>\n",
       "<p>204320 rows × 10 columns</p>\n",
       "</div>"
      ],
      "text/plain": [
       "            date  mean_temp  max_temp     max_temp_time  min_temp  \\\n",
       "0       20041106       13.1      20.1   2004/11/6 12:50       8.1   \n",
       "1       20041107        9.6      12.5   2004/11/7 13:40       5.4   \n",
       "2       20041108        9.0      15.5   2004/11/8 12:51       3.2   \n",
       "3       20041109       12.2      17.7   2004/11/9 14:40       5.7   \n",
       "4       20041110       11.6      16.4  2004/11/10 14:42       6.9   \n",
       "...          ...        ...       ...               ...       ...   \n",
       "204315  20220426       21.3      23.6   2022/4/26 14:27      17.9   \n",
       "204316  20220427       23.0      27.7   2022/4/27 13:12      18.9   \n",
       "204317  20220428       16.9      21.1   2022/4/28 15:03      14.2   \n",
       "204318  20220429       12.9      16.4   2022/4/29 09:21       9.0   \n",
       "204319  20220430       12.6      18.4   2022/4/30 14:49       7.4   \n",
       "\n",
       "           min_temp_time  sum_rain  sun_time  mean_humid area  \n",
       "0        2004/11/6 05:31       5.0       1.6        77.0   青森  \n",
       "1        2004/11/7 22:17       0.0       4.1        63.0   青森  \n",
       "2        2004/11/8 06:28       0.0       8.9        72.0   青森  \n",
       "3        2004/11/9 02:49       1.5       1.2        85.0   青森  \n",
       "4       2004/11/10 06:23       0.0       7.5        89.0   青森  \n",
       "...                  ...       ...       ...         ...  ...  \n",
       "204315   2022/4/26 04:17       2.5       0.0        89.0   東京  \n",
       "204316    2022/4/28 0:00       0.5       1.6        79.0   東京  \n",
       "204317   2022/4/28 22:40       0.0       5.5        57.0   東京  \n",
       "204318   2022/4/29 23:55      40.0       0.2        86.0   東京  \n",
       "204319   2022/4/30 05:28       0.0      12.4        64.0   東京  \n",
       "\n",
       "[204320 rows x 10 columns]"
      ]
     },
     "execution_count": 12,
     "metadata": {},
     "output_type": "execute_result"
    }
   ],
   "source": [
    "weather_raw = pd.read_csv('weather.csv')\n",
    "weather_raw"
   ]
  },
  {
   "cell_type": "code",
   "execution_count": 13,
   "id": "be667b42-8f58-4a25-9c56-948b82803bb1",
   "metadata": {},
   "outputs": [
    {
     "data": {
      "text/html": [
       "<div>\n",
       "<style scoped>\n",
       "    .dataframe tbody tr th:only-of-type {\n",
       "        vertical-align: middle;\n",
       "    }\n",
       "\n",
       "    .dataframe tbody tr th {\n",
       "        vertical-align: top;\n",
       "    }\n",
       "\n",
       "    .dataframe thead th {\n",
       "        text-align: right;\n",
       "    }\n",
       "</style>\n",
       "<table border=\"1\" class=\"dataframe\">\n",
       "  <thead>\n",
       "    <tr style=\"text-align: right;\">\n",
       "      <th></th>\n",
       "      <th>kind</th>\n",
       "      <th>date</th>\n",
       "      <th>mode_price</th>\n",
       "    </tr>\n",
       "  </thead>\n",
       "  <tbody>\n",
       "    <tr>\n",
       "      <th>0</th>\n",
       "      <td>だいこん</td>\n",
       "      <td>20220502</td>\n",
       "      <td>0</td>\n",
       "    </tr>\n",
       "    <tr>\n",
       "      <th>1</th>\n",
       "      <td>だいこん</td>\n",
       "      <td>20220506</td>\n",
       "      <td>0</td>\n",
       "    </tr>\n",
       "    <tr>\n",
       "      <th>2</th>\n",
       "      <td>だいこん</td>\n",
       "      <td>20220507</td>\n",
       "      <td>0</td>\n",
       "    </tr>\n",
       "    <tr>\n",
       "      <th>3</th>\n",
       "      <td>だいこん</td>\n",
       "      <td>20220509</td>\n",
       "      <td>0</td>\n",
       "    </tr>\n",
       "    <tr>\n",
       "      <th>4</th>\n",
       "      <td>だいこん</td>\n",
       "      <td>20220510</td>\n",
       "      <td>0</td>\n",
       "    </tr>\n",
       "    <tr>\n",
       "      <th>...</th>\n",
       "      <td>...</td>\n",
       "      <td>...</td>\n",
       "      <td>...</td>\n",
       "    </tr>\n",
       "    <tr>\n",
       "      <th>315</th>\n",
       "      <td>ミニトマト</td>\n",
       "      <td>20220526</td>\n",
       "      <td>0</td>\n",
       "    </tr>\n",
       "    <tr>\n",
       "      <th>316</th>\n",
       "      <td>ミニトマト</td>\n",
       "      <td>20220527</td>\n",
       "      <td>0</td>\n",
       "    </tr>\n",
       "    <tr>\n",
       "      <th>317</th>\n",
       "      <td>ミニトマト</td>\n",
       "      <td>20220528</td>\n",
       "      <td>0</td>\n",
       "    </tr>\n",
       "    <tr>\n",
       "      <th>318</th>\n",
       "      <td>ミニトマト</td>\n",
       "      <td>20220530</td>\n",
       "      <td>0</td>\n",
       "    </tr>\n",
       "    <tr>\n",
       "      <th>319</th>\n",
       "      <td>ミニトマト</td>\n",
       "      <td>20220531</td>\n",
       "      <td>0</td>\n",
       "    </tr>\n",
       "  </tbody>\n",
       "</table>\n",
       "<p>320 rows × 3 columns</p>\n",
       "</div>"
      ],
      "text/plain": [
       "      kind      date  mode_price\n",
       "0     だいこん  20220502           0\n",
       "1     だいこん  20220506           0\n",
       "2     だいこん  20220507           0\n",
       "3     だいこん  20220509           0\n",
       "4     だいこん  20220510           0\n",
       "..     ...       ...         ...\n",
       "315  ミニトマト  20220526           0\n",
       "316  ミニトマト  20220527           0\n",
       "317  ミニトマト  20220528           0\n",
       "318  ミニトマト  20220530           0\n",
       "319  ミニトマト  20220531           0\n",
       "\n",
       "[320 rows x 3 columns]"
      ]
     },
     "execution_count": 13,
     "metadata": {},
     "output_type": "execute_result"
    }
   ],
   "source": [
    "sub_raw = pd.read_csv('sample_submission.csv')\n",
    "sub_raw"
   ]
  },
  {
   "cell_type": "code",
   "execution_count": 14,
   "id": "683cd8dd-91da-4d6a-ae05-b6d597988580",
   "metadata": {},
   "outputs": [
    {
     "data": {
      "text/plain": [
       "kind          0\n",
       "date          0\n",
       "amount        0\n",
       "mode_price    0\n",
       "area          0\n",
       "dtype: int64"
      ]
     },
     "execution_count": 14,
     "metadata": {},
     "output_type": "execute_result"
    }
   ],
   "source": [
    "train_raw.isnull().sum()"
   ]
  },
  {
   "cell_type": "code",
   "execution_count": 15,
   "id": "6b77dd2a-c391-4fbe-816f-0c81eacdb589",
   "metadata": {},
   "outputs": [
    {
     "data": {
      "text/html": [
       "<div>\n",
       "<style scoped>\n",
       "    .dataframe tbody tr th:only-of-type {\n",
       "        vertical-align: middle;\n",
       "    }\n",
       "\n",
       "    .dataframe tbody tr th {\n",
       "        vertical-align: top;\n",
       "    }\n",
       "\n",
       "    .dataframe thead th {\n",
       "        text-align: right;\n",
       "    }\n",
       "</style>\n",
       "<table border=\"1\" class=\"dataframe\">\n",
       "  <thead>\n",
       "    <tr style=\"text-align: right;\">\n",
       "      <th></th>\n",
       "      <th>kind</th>\n",
       "      <th>date</th>\n",
       "      <th>amount</th>\n",
       "      <th>mode_price</th>\n",
       "      <th>area</th>\n",
       "    </tr>\n",
       "  </thead>\n",
       "  <tbody>\n",
       "    <tr>\n",
       "      <th>count</th>\n",
       "      <td>97782</td>\n",
       "      <td>9.778200e+04</td>\n",
       "      <td>97782.000000</td>\n",
       "      <td>97782.000000</td>\n",
       "      <td>97782</td>\n",
       "    </tr>\n",
       "    <tr>\n",
       "      <th>unique</th>\n",
       "      <td>44</td>\n",
       "      <td>NaN</td>\n",
       "      <td>NaN</td>\n",
       "      <td>NaN</td>\n",
       "      <td>266</td>\n",
       "    </tr>\n",
       "    <tr>\n",
       "      <th>top</th>\n",
       "      <td>トマト</td>\n",
       "      <td>NaN</td>\n",
       "      <td>NaN</td>\n",
       "      <td>NaN</td>\n",
       "      <td>北海道</td>\n",
       "    </tr>\n",
       "    <tr>\n",
       "      <th>freq</th>\n",
       "      <td>4379</td>\n",
       "      <td>NaN</td>\n",
       "      <td>NaN</td>\n",
       "      <td>NaN</td>\n",
       "      <td>5410</td>\n",
       "    </tr>\n",
       "    <tr>\n",
       "      <th>mean</th>\n",
       "      <td>NaN</td>\n",
       "      <td>2.013619e+07</td>\n",
       "      <td>87095.257246</td>\n",
       "      <td>1341.207081</td>\n",
       "      <td>NaN</td>\n",
       "    </tr>\n",
       "    <tr>\n",
       "      <th>std</th>\n",
       "      <td>NaN</td>\n",
       "      <td>4.726274e+04</td>\n",
       "      <td>84438.195701</td>\n",
       "      <td>1304.031597</td>\n",
       "      <td>NaN</td>\n",
       "    </tr>\n",
       "    <tr>\n",
       "      <th>min</th>\n",
       "      <td>NaN</td>\n",
       "      <td>2.005111e+07</td>\n",
       "      <td>1.000000</td>\n",
       "      <td>18.500000</td>\n",
       "      <td>NaN</td>\n",
       "    </tr>\n",
       "    <tr>\n",
       "      <th>25%</th>\n",
       "      <td>NaN</td>\n",
       "      <td>2.009123e+07</td>\n",
       "      <td>21664.250000</td>\n",
       "      <td>227.000000</td>\n",
       "      <td>NaN</td>\n",
       "    </tr>\n",
       "    <tr>\n",
       "      <th>50%</th>\n",
       "      <td>NaN</td>\n",
       "      <td>2.014012e+07</td>\n",
       "      <td>58335.500000</td>\n",
       "      <td>1242.000000</td>\n",
       "      <td>NaN</td>\n",
       "    </tr>\n",
       "    <tr>\n",
       "      <th>75%</th>\n",
       "      <td>NaN</td>\n",
       "      <td>2.018020e+07</td>\n",
       "      <td>128100.750000</td>\n",
       "      <td>1890.000000</td>\n",
       "      <td>NaN</td>\n",
       "    </tr>\n",
       "    <tr>\n",
       "      <th>max</th>\n",
       "      <td>NaN</td>\n",
       "      <td>2.022043e+07</td>\n",
       "      <td>965216.000000</td>\n",
       "      <td>25920.000000</td>\n",
       "      <td>NaN</td>\n",
       "    </tr>\n",
       "  </tbody>\n",
       "</table>\n",
       "</div>"
      ],
      "text/plain": [
       "         kind          date         amount    mode_price   area\n",
       "count   97782  9.778200e+04   97782.000000  97782.000000  97782\n",
       "unique     44           NaN            NaN           NaN    266\n",
       "top       トマト           NaN            NaN           NaN    北海道\n",
       "freq     4379           NaN            NaN           NaN   5410\n",
       "mean      NaN  2.013619e+07   87095.257246   1341.207081    NaN\n",
       "std       NaN  4.726274e+04   84438.195701   1304.031597    NaN\n",
       "min       NaN  2.005111e+07       1.000000     18.500000    NaN\n",
       "25%       NaN  2.009123e+07   21664.250000    227.000000    NaN\n",
       "50%       NaN  2.014012e+07   58335.500000   1242.000000    NaN\n",
       "75%       NaN  2.018020e+07  128100.750000   1890.000000    NaN\n",
       "max       NaN  2.022043e+07  965216.000000  25920.000000    NaN"
      ]
     },
     "execution_count": 15,
     "metadata": {},
     "output_type": "execute_result"
    }
   ],
   "source": [
    "train_raw.describe(include='all')"
   ]
  },
  {
   "cell_type": "code",
   "execution_count": 16,
   "id": "3a9d57ff-0d10-42d5-a564-9e157bc86f5e",
   "metadata": {},
   "outputs": [
    {
     "data": {
      "text/plain": [
       "array(['だいこん', 'かぶ', 'にんじん', 'ごぼう', 'れんこん', 'キャベツ', 'レタス', 'はくさい', 'こまつな',\n",
       "       'ほうれんそう', 'ねぎ', 'しゅんぎく', 'ブロッコリー', 'きゅうり', 'かぼちゃ', 'なす', 'トマト',\n",
       "       'ピーマン', 'じゃがいも', 'さつまいも', 'さといも', 'たまねぎ', 'なましいたけ', 'セルリー',\n",
       "       'さやえんどう', 'なのはな', 'たけのこ', 'ふき', 'うど', 'そらまめ', 'アスパラガス', 'ピース',\n",
       "       'とうもろこし', 'いんげん', 'えだまめ', 'うめ', 'まつたけ', 'オクラ', 'レイシにがうり', 'みずな',\n",
       "       'ミニトマト', 'にら', 'えのきだけ', 'しめじ'], dtype=object)"
      ]
     },
     "execution_count": 16,
     "metadata": {},
     "output_type": "execute_result"
    }
   ],
   "source": [
    "train_raw['kind'].unique()"
   ]
  },
  {
   "cell_type": "code",
   "execution_count": 17,
   "id": "d762a1e9-5791-4576-a4e5-4b43e2cf4a5a",
   "metadata": {},
   "outputs": [
    {
     "data": {
      "text/plain": [
       "44"
      ]
     },
     "execution_count": 17,
     "metadata": {},
     "output_type": "execute_result"
    }
   ],
   "source": [
    "len(train_raw['kind'].unique())"
   ]
  },
  {
   "cell_type": "code",
   "execution_count": 18,
   "id": "90ff3b03-b49b-4589-af64-be4de9ac7cad",
   "metadata": {},
   "outputs": [
    {
     "data": {
      "text/plain": [
       "array(['だいこん', 'にんじん', 'キャベツ', 'レタス', 'はくさい', 'こまつな', 'ほうれんそう', 'ねぎ',\n",
       "       'きゅうり', 'トマト', 'ピーマン', 'じゃがいも', 'なましいたけ', 'セルリー', 'そらまめ', 'ミニトマト'],\n",
       "      dtype=object)"
      ]
     },
     "execution_count": 18,
     "metadata": {},
     "output_type": "execute_result"
    }
   ],
   "source": [
    "test_raw['kind'].unique()"
   ]
  },
  {
   "cell_type": "code",
   "execution_count": 19,
   "id": "1392903a-b551-4aca-b7b4-2ea61b7a5eb6",
   "metadata": {},
   "outputs": [
    {
     "data": {
      "text/plain": [
       "16"
      ]
     },
     "execution_count": 19,
     "metadata": {},
     "output_type": "execute_result"
    }
   ],
   "source": [
    "len(test_raw['kind'].unique())"
   ]
  },
  {
   "cell_type": "code",
   "execution_count": 20,
   "id": "b87c2bce-1ed6-431c-bbbe-7324746da8ea",
   "metadata": {},
   "outputs": [
    {
     "data": {
      "text/plain": [
       "16"
      ]
     },
     "execution_count": 20,
     "metadata": {},
     "output_type": "execute_result"
    }
   ],
   "source": [
    "len(sub_raw['kind'].unique())"
   ]
  },
  {
   "cell_type": "markdown",
   "id": "e366df45-569a-4df9-9b1e-d9ff0aab1d01",
   "metadata": {},
   "source": [
    "## trainデータ"
   ]
  },
  {
   "cell_type": "code",
   "execution_count": 21,
   "id": "f0723d1b",
   "metadata": {},
   "outputs": [],
   "source": [
    "train = train_raw.copy()"
   ]
  },
  {
   "cell_type": "markdown",
   "id": "0e14a723-58de-41c6-ae7e-9c4b72c1568f",
   "metadata": {},
   "source": [
    "### dateをdatetime型に変換"
   ]
  },
  {
   "cell_type": "code",
   "execution_count": 22,
   "id": "98a0328f-5249-4ffb-969c-60389da9a386",
   "metadata": {},
   "outputs": [],
   "source": [
    "train['date'] = train['date'].astype(str)"
   ]
  },
  {
   "cell_type": "code",
   "execution_count": 23,
   "id": "db3d9a75-e613-467d-9a5c-4eecb95cdace",
   "metadata": {},
   "outputs": [],
   "source": [
    "train['date'] = pd.to_datetime(train['date'])"
   ]
  },
  {
   "cell_type": "markdown",
   "id": "a64c15f4-a763-4903-b4ef-dfa3e97bb10e",
   "metadata": {},
   "source": [
    "# LSTM_study"
   ]
  },
  {
   "cell_type": "markdown",
   "id": "cf1a328d-0c9e-407e-aa52-e9008363c017",
   "metadata": {},
   "source": [
    "## だいこん単体の予測"
   ]
  },
  {
   "cell_type": "code",
   "execution_count": 24,
   "id": "bc1cf05a-476d-4745-938a-2038da94a7ee",
   "metadata": {},
   "outputs": [
    {
     "data": {
      "text/html": [
       "<div>\n",
       "<style scoped>\n",
       "    .dataframe tbody tr th:only-of-type {\n",
       "        vertical-align: middle;\n",
       "    }\n",
       "\n",
       "    .dataframe tbody tr th {\n",
       "        vertical-align: top;\n",
       "    }\n",
       "\n",
       "    .dataframe thead th {\n",
       "        text-align: right;\n",
       "    }\n",
       "</style>\n",
       "<table border=\"1\" class=\"dataframe\">\n",
       "  <thead>\n",
       "    <tr style=\"text-align: right;\">\n",
       "      <th></th>\n",
       "      <th>mode_price</th>\n",
       "    </tr>\n",
       "    <tr>\n",
       "      <th>date</th>\n",
       "      <th></th>\n",
       "    </tr>\n",
       "  </thead>\n",
       "  <tbody>\n",
       "    <tr>\n",
       "      <th>2005-11-07</th>\n",
       "      <td>735.0</td>\n",
       "    </tr>\n",
       "    <tr>\n",
       "      <th>2005-11-08</th>\n",
       "      <td>840.0</td>\n",
       "    </tr>\n",
       "    <tr>\n",
       "      <th>2005-11-10</th>\n",
       "      <td>735.0</td>\n",
       "    </tr>\n",
       "    <tr>\n",
       "      <th>2005-11-11</th>\n",
       "      <td>682.5</td>\n",
       "    </tr>\n",
       "    <tr>\n",
       "      <th>2005-11-12</th>\n",
       "      <td>682.5</td>\n",
       "    </tr>\n",
       "    <tr>\n",
       "      <th>...</th>\n",
       "      <td>...</td>\n",
       "    </tr>\n",
       "    <tr>\n",
       "      <th>2022-04-25</th>\n",
       "      <td>864.0</td>\n",
       "    </tr>\n",
       "    <tr>\n",
       "      <th>2022-04-26</th>\n",
       "      <td>756.0</td>\n",
       "    </tr>\n",
       "    <tr>\n",
       "      <th>2022-04-28</th>\n",
       "      <td>864.0</td>\n",
       "    </tr>\n",
       "    <tr>\n",
       "      <th>2022-04-29</th>\n",
       "      <td>918.0</td>\n",
       "    </tr>\n",
       "    <tr>\n",
       "      <th>2022-04-30</th>\n",
       "      <td>864.0</td>\n",
       "    </tr>\n",
       "  </tbody>\n",
       "</table>\n",
       "<p>4375 rows × 1 columns</p>\n",
       "</div>"
      ],
      "text/plain": [
       "            mode_price\n",
       "date                  \n",
       "2005-11-07       735.0\n",
       "2005-11-08       840.0\n",
       "2005-11-10       735.0\n",
       "2005-11-11       682.5\n",
       "2005-11-12       682.5\n",
       "...                ...\n",
       "2022-04-25       864.0\n",
       "2022-04-26       756.0\n",
       "2022-04-28       864.0\n",
       "2022-04-29       918.0\n",
       "2022-04-30       864.0\n",
       "\n",
       "[4375 rows x 1 columns]"
      ]
     },
     "execution_count": 24,
     "metadata": {},
     "output_type": "execute_result"
    }
   ],
   "source": [
    "df_daikon = train[train['kind']=='だいこん'][['date', 'mode_price']].set_index('date')\n",
    "df_daikon"
   ]
  },
  {
   "cell_type": "code",
   "execution_count": 25,
   "id": "65f48e9f-2f1f-4706-b66a-6fb75f2c9a78",
   "metadata": {},
   "outputs": [
    {
     "data": {
      "text/plain": [
       "[<matplotlib.lines.Line2D at 0x20d72123130>]"
      ]
     },
     "execution_count": 25,
     "metadata": {},
     "output_type": "execute_result"
    },
    {
     "data": {
      "image/png": "[encoded data removed]",
      "text/plain": [
       "<Figure size 432x288 with 1 Axes>"
      ]
     },
     "metadata": {
      "needs_background": "light"
     },
     "output_type": "display_data"
    }
   ],
   "source": [
    "plt.plot(df_daikon.index, df_daikon['mode_price'])"
   ]
  },
  {
   "cell_type": "code",
   "execution_count": 26,
   "id": "1a10c1a0-226d-4d9f-ad85-4e2b24439f28",
   "metadata": {},
   "outputs": [],
   "source": [
    "def str_to_datetime(s):\n",
    "    split = s.split('-')\n",
    "    year, month, day = int(split[0]), int(split[1]), int(split[2])\n",
    "    return datetime.datetime(year=year, month=month, day=day)\n",
    "\n",
    "def df_to_windowed_df(dataframe, first_date_str, last_date_str, n=3):\n",
    "    first_date = str_to_datetime(first_date_str)\n",
    "    last_date = str_to_datetime(last_date_str)\n",
    "    \n",
    "    target_date = first_date\n",
    "    \n",
    "    dates = []\n",
    "    X, Y = [], []\n",
    "    \n",
    "    last_time = False\n",
    "    while True:\n",
    "        df_subset = dataframe.loc[:target_date].tail(n+1)\n",
    "        \n",
    "        if len(df_subset) != n+1:\n",
    "            print(f'Error: Window of size {n} is too large for date {target_date}')\n",
    "            return\n",
    "        \n",
    "        values = df_subset['mode_price'].to_numpy()\n",
    "        x, y = values[:-1], values[-1]\n",
    "        \n",
    "        dates.append(target_date)\n",
    "        X.append(x)\n",
    "        Y.append(y)\n",
    "        \n",
    "        next_week = dataframe.loc[target_date:target_date+datetime.timedelta(days=7)]\n",
    "        next_datetime_str = str(next_week.head(2).tail(1).index.values[0])\n",
    "        next_date_str = next_datetime_str.split('T')[0]\n",
    "        year_month_day = next_date_str.split('-')\n",
    "        year, month, day = year_month_day\n",
    "        next_date = datetime.datetime(day=int(day), month=int(month), year=int(year))\n",
    "        \n",
    "        if last_time:\n",
    "            break\n",
    "        \n",
    "        target_date = next_date\n",
    "        \n",
    "        if target_date == last_date:\n",
    "            last_time = True\n",
    "            \n",
    "    ret_df = pd.DataFrame({})\n",
    "    ret_df['Target Date'] = dates\n",
    "\n",
    "    X = np.array(X)\n",
    "    for i in range(0, n):\n",
    "        X[:,i]\n",
    "        ret_df[f'Target-{n-i}'] = X[:, i]\n",
    "\n",
    "    ret_df['Target'] = Y\n",
    "\n",
    "    return ret_df"
   ]
  },
  {
   "cell_type": "code",
   "execution_count": 27,
   "id": "72da38da-e3cb-47bf-8448-462c853dddea",
   "metadata": {},
   "outputs": [],
   "source": [
    "# Start day second time around: '2021-03-25'\n",
    "windowed_df = df_to_windowed_df(df_daikon,\n",
    "                               '2021-04-30',\n",
    "                               '2022-04-30',\n",
    "                               n=3)"
   ]
  },
  {
   "cell_type": "code",
   "execution_count": 28,
   "id": "e548613c-9ecb-4f29-97d0-d923c3d125c9",
   "metadata": {},
   "outputs": [
    {
     "data": {
      "text/html": [
       "<div>\n",
       "<style scoped>\n",
       "    .dataframe tbody tr th:only-of-type {\n",
       "        vertical-align: middle;\n",
       "    }\n",
       "\n",
       "    .dataframe tbody tr th {\n",
       "        vertical-align: top;\n",
       "    }\n",
       "\n",
       "    .dataframe thead th {\n",
       "        text-align: right;\n",
       "    }\n",
       "</style>\n",
       "<table border=\"1\" class=\"dataframe\">\n",
       "  <thead>\n",
       "    <tr style=\"text-align: right;\">\n",
       "      <th></th>\n",
       "      <th>Target Date</th>\n",
       "      <th>Target-3</th>\n",
       "      <th>Target-2</th>\n",
       "      <th>Target-1</th>\n",
       "      <th>Target</th>\n",
       "    </tr>\n",
       "  </thead>\n",
       "  <tbody>\n",
       "    <tr>\n",
       "      <th>0</th>\n",
       "      <td>2021-04-30</td>\n",
       "      <td>864.0</td>\n",
       "      <td>864.0</td>\n",
       "      <td>864.0</td>\n",
       "      <td>972.0</td>\n",
       "    </tr>\n",
       "    <tr>\n",
       "      <th>1</th>\n",
       "      <td>2021-05-01</td>\n",
       "      <td>864.0</td>\n",
       "      <td>864.0</td>\n",
       "      <td>972.0</td>\n",
       "      <td>972.0</td>\n",
       "    </tr>\n",
       "    <tr>\n",
       "      <th>2</th>\n",
       "      <td>2021-05-03</td>\n",
       "      <td>864.0</td>\n",
       "      <td>972.0</td>\n",
       "      <td>972.0</td>\n",
       "      <td>972.0</td>\n",
       "    </tr>\n",
       "    <tr>\n",
       "      <th>3</th>\n",
       "      <td>2021-05-06</td>\n",
       "      <td>972.0</td>\n",
       "      <td>972.0</td>\n",
       "      <td>972.0</td>\n",
       "      <td>972.0</td>\n",
       "    </tr>\n",
       "    <tr>\n",
       "      <th>4</th>\n",
       "      <td>2021-05-07</td>\n",
       "      <td>972.0</td>\n",
       "      <td>972.0</td>\n",
       "      <td>972.0</td>\n",
       "      <td>972.0</td>\n",
       "    </tr>\n",
       "    <tr>\n",
       "      <th>...</th>\n",
       "      <td>...</td>\n",
       "      <td>...</td>\n",
       "      <td>...</td>\n",
       "      <td>...</td>\n",
       "      <td>...</td>\n",
       "    </tr>\n",
       "    <tr>\n",
       "      <th>250</th>\n",
       "      <td>2022-04-25</td>\n",
       "      <td>1026.0</td>\n",
       "      <td>972.0</td>\n",
       "      <td>918.0</td>\n",
       "      <td>864.0</td>\n",
       "    </tr>\n",
       "    <tr>\n",
       "      <th>251</th>\n",
       "      <td>2022-04-26</td>\n",
       "      <td>972.0</td>\n",
       "      <td>918.0</td>\n",
       "      <td>864.0</td>\n",
       "      <td>756.0</td>\n",
       "    </tr>\n",
       "    <tr>\n",
       "      <th>252</th>\n",
       "      <td>2022-04-28</td>\n",
       "      <td>918.0</td>\n",
       "      <td>864.0</td>\n",
       "      <td>756.0</td>\n",
       "      <td>864.0</td>\n",
       "    </tr>\n",
       "    <tr>\n",
       "      <th>253</th>\n",
       "      <td>2022-04-29</td>\n",
       "      <td>864.0</td>\n",
       "      <td>756.0</td>\n",
       "      <td>864.0</td>\n",
       "      <td>918.0</td>\n",
       "    </tr>\n",
       "    <tr>\n",
       "      <th>254</th>\n",
       "      <td>2022-04-30</td>\n",
       "      <td>756.0</td>\n",
       "      <td>864.0</td>\n",
       "      <td>918.0</td>\n",
       "      <td>864.0</td>\n",
       "    </tr>\n",
       "  </tbody>\n",
       "</table>\n",
       "<p>255 rows × 5 columns</p>\n",
       "</div>"
      ],
      "text/plain": [
       "    Target Date  Target-3  Target-2  Target-1  Target\n",
       "0    2021-04-30     864.0     864.0     864.0   972.0\n",
       "1    2021-05-01     864.0     864.0     972.0   972.0\n",
       "2    2021-05-03     864.0     972.0     972.0   972.0\n",
       "3    2021-05-06     972.0     972.0     972.0   972.0\n",
       "4    2021-05-07     972.0     972.0     972.0   972.0\n",
       "..          ...       ...       ...       ...     ...\n",
       "250  2022-04-25    1026.0     972.0     918.0   864.0\n",
       "251  2022-04-26     972.0     918.0     864.0   756.0\n",
       "252  2022-04-28     918.0     864.0     756.0   864.0\n",
       "253  2022-04-29     864.0     756.0     864.0   918.0\n",
       "254  2022-04-30     756.0     864.0     918.0   864.0\n",
       "\n",
       "[255 rows x 5 columns]"
      ]
     },
     "execution_count": 28,
     "metadata": {},
     "output_type": "execute_result"
    }
   ],
   "source": [
    "windowed_df"
   ]
  },
  {
   "cell_type": "code",
   "execution_count": 29,
   "id": "cb5b0021-a581-4865-9df6-0a5ac4c9d5c7",
   "metadata": {},
   "outputs": [
    {
     "data": {
      "text/plain": [
       "((255,), (255, 3, 1), (255,))"
      ]
     },
     "execution_count": 29,
     "metadata": {},
     "output_type": "execute_result"
    }
   ],
   "source": [
    "def windowed_df_to_date_X_y(windowed_dataframe):\n",
    "    df_as_np = windowed_dataframe.to_numpy()\n",
    "    \n",
    "    dates = df_as_np[:, 0]\n",
    "    \n",
    "    middle_matrix = df_as_np[:, 1: -1]\n",
    "    X = middle_matrix.reshape((len(dates), middle_matrix.shape[1], 1))\n",
    "    \n",
    "    Y = df_as_np[:, -1]\n",
    "    \n",
    "    return dates, X.astype(np.float32), Y.astype(np.float32)\n",
    "\n",
    "dates, X, y = windowed_df_to_date_X_y(windowed_df)\n",
    "dates.shape, X.shape, y.shape"
   ]
  },
  {
   "cell_type": "code",
   "execution_count": 30,
   "id": "d88bdd62-a4fb-41eb-950c-b4679d3474be",
   "metadata": {},
   "outputs": [],
   "source": [
    "q_80 = int(len(dates) * .8)\n",
    "q_90 = int(len(dates) * .9)\n",
    "\n",
    "dates_train, X_train, y_train = dates[:q_80], X[:q_80], y[:q_80]\n",
    "\n",
    "dates_val, X_val, y_val = dates[q_80:q_90], X[q_80:q_90], y[q_80:q_90]\n",
    "dates_test, X_test, y_test = dates[q_90:], X[q_90:], y[q_90:]"
   ]
  },
  {
   "cell_type": "code",
   "execution_count": 31,
   "id": "d226fbec-f20d-4ab5-97f0-dd117146abcd",
   "metadata": {},
   "outputs": [
    {
     "data": {
      "text/plain": [
       "<matplotlib.legend.Legend at 0x20d7047cc70>"
      ]
     },
     "execution_count": 31,
     "metadata": {},
     "output_type": "execute_result"
    },
    {
     "data": {
      "image/png": "[encoded data removed]",
      "text/plain": [
       "<Figure size 432x288 with 1 Axes>"
      ]
     },
     "metadata": {
      "needs_background": "light"
     },
     "output_type": "display_data"
    }
   ],
   "source": [
    "plt.plot(dates_train, y_train)\n",
    "plt.plot(dates_val, y_val)\n",
    "plt.plot(dates_test, y_test)\n",
    "\n",
    "plt.legend(['Train','Validation','Test'])"
   ]
  },
  {
   "cell_type": "code",
   "execution_count": 32,
   "id": "f59136a6-40ae-40a2-9950-eade2f4d9c5c",
   "metadata": {},
   "outputs": [
    {
     "name": "stdout",
     "output_type": "stream",
     "text": [
      "Epoch 1/100\n",
      "7/7 [==============================] - 3s 109ms/step - loss: 877264.3750 - mean_absolute_error: 903.0441 - val_loss: 1450474.1250 - val_mean_absolute_error: 1202.0763\n",
      "Epoch 2/100\n",
      "7/7 [==============================] - 0s 10ms/step - loss: 876135.1250 - mean_absolute_error: 902.4156 - val_loss: 1448901.7500 - val_mean_absolute_error: 1201.4220\n",
      "Epoch 3/100\n",
      "7/7 [==============================] - 0s 10ms/step - loss: 874814.5625 - mean_absolute_error: 901.6808 - val_loss: 1446875.8750 - val_mean_absolute_error: 1200.5786\n",
      "Epoch 4/100\n",
      "7/7 [==============================] - 0s 9ms/step - loss: 873207.3125 - mean_absolute_error: 900.7975 - val_loss: 1444472.0000 - val_mean_absolute_error: 1199.5770\n",
      "Epoch 5/100\n",
      "7/7 [==============================] - 0s 9ms/step - loss: 871268.5625 - mean_absolute_error: 899.7188 - val_loss: 1441589.1250 - val_mean_absolute_error: 1198.3749\n",
      "Epoch 6/100\n",
      "7/7 [==============================] - 0s 9ms/step - loss: 868915.9375 - mean_absolute_error: 898.4075 - val_loss: 1437985.6250 - val_mean_absolute_error: 1196.8704\n",
      "Epoch 7/100\n",
      "7/7 [==============================] - 0s 8ms/step - loss: 865480.1875 - mean_absolute_error: 896.4795 - val_loss: 1432189.5000 - val_mean_absolute_error: 1194.4467\n",
      "Epoch 8/100\n",
      "7/7 [==============================] - 0s 8ms/step - loss: 861312.1875 - mean_absolute_error: 894.1484 - val_loss: 1426465.5000 - val_mean_absolute_error: 1192.0480\n",
      "Epoch 9/100\n",
      "7/7 [==============================] - 0s 8ms/step - loss: 856003.8125 - mean_absolute_error: 891.1889 - val_loss: 1418093.6250 - val_mean_absolute_error: 1188.5315\n",
      "Epoch 10/100\n",
      "7/7 [==============================] - 0s 8ms/step - loss: 849837.5625 - mean_absolute_error: 887.7361 - val_loss: 1409219.2500 - val_mean_absolute_error: 1184.7920\n",
      "Epoch 11/100\n",
      "7/7 [==============================] - 0s 8ms/step - loss: 842740.0000 - mean_absolute_error: 883.6941 - val_loss: 1398496.0000 - val_mean_absolute_error: 1180.2582\n",
      "Epoch 12/100\n",
      "7/7 [==============================] - 0s 8ms/step - loss: 834154.5625 - mean_absolute_error: 878.8336 - val_loss: 1385761.8750 - val_mean_absolute_error: 1174.8511\n",
      "Epoch 13/100\n",
      "7/7 [==============================] - 0s 14ms/step - loss: 824040.8750 - mean_absolute_error: 873.0620 - val_loss: 1370818.3750 - val_mean_absolute_error: 1168.4739\n",
      "Epoch 14/100\n",
      "7/7 [==============================] - 0s 8ms/step - loss: 811361.9375 - mean_absolute_error: 865.7542 - val_loss: 1350813.2500 - val_mean_absolute_error: 1159.8812\n",
      "Epoch 15/100\n",
      "7/7 [==============================] - 0s 9ms/step - loss: 795947.4375 - mean_absolute_error: 856.7780 - val_loss: 1328999.5000 - val_mean_absolute_error: 1150.4401\n",
      "Epoch 16/100\n",
      "7/7 [==============================] - 0s 7ms/step - loss: 778850.2500 - mean_absolute_error: 846.7596 - val_loss: 1303770.3750 - val_mean_absolute_error: 1139.4225\n",
      "Epoch 17/100\n",
      "7/7 [==============================] - 0s 7ms/step - loss: 759114.6875 - mean_absolute_error: 835.0863 - val_loss: 1273754.3750 - val_mean_absolute_error: 1126.1740\n",
      "Epoch 18/100\n",
      "7/7 [==============================] - 0s 7ms/step - loss: 736651.5000 - mean_absolute_error: 821.3992 - val_loss: 1240646.5000 - val_mean_absolute_error: 1111.3762\n",
      "Epoch 19/100\n",
      "7/7 [==============================] - 0s 7ms/step - loss: 710893.1250 - mean_absolute_error: 805.7489 - val_loss: 1205079.2500 - val_mean_absolute_error: 1095.2592\n",
      "Epoch 20/100\n",
      "7/7 [==============================] - 0s 7ms/step - loss: 684496.1875 - mean_absolute_error: 789.1719 - val_loss: 1166717.5000 - val_mean_absolute_error: 1077.6042\n",
      "Epoch 21/100\n",
      "7/7 [==============================] - 0s 7ms/step - loss: 656071.6250 - mean_absolute_error: 770.7953 - val_loss: 1125083.5000 - val_mean_absolute_error: 1058.1101\n",
      "Epoch 22/100\n",
      "7/7 [==============================] - 0s 8ms/step - loss: 625333.2500 - mean_absolute_error: 750.6655 - val_loss: 1080696.3750 - val_mean_absolute_error: 1036.9232\n",
      "Epoch 23/100\n",
      "7/7 [==============================] - 0s 7ms/step - loss: 593049.1875 - mean_absolute_error: 728.7432 - val_loss: 1033442.3750 - val_mean_absolute_error: 1013.8816\n",
      "Epoch 24/100\n",
      "7/7 [==============================] - 0s 7ms/step - loss: 558854.6875 - mean_absolute_error: 705.0267 - val_loss: 983670.0000 - val_mean_absolute_error: 989.0316\n",
      "Epoch 25/100\n",
      "7/7 [==============================] - 0s 7ms/step - loss: 523649.5625 - mean_absolute_error: 679.3960 - val_loss: 931441.1250 - val_mean_absolute_error: 962.2653\n",
      "Epoch 26/100\n",
      "7/7 [==============================] - 0s 7ms/step - loss: 487118.7188 - mean_absolute_error: 652.0400 - val_loss: 877683.8125 - val_mean_absolute_error: 933.9149\n",
      "Epoch 27/100\n",
      "7/7 [==============================] - 0s 7ms/step - loss: 450194.5625 - mean_absolute_error: 623.0034 - val_loss: 822362.5625 - val_mean_absolute_error: 903.8118\n",
      "Epoch 28/100\n",
      "7/7 [==============================] - 0s 7ms/step - loss: 412520.9375 - mean_absolute_error: 592.3550 - val_loss: 766331.5000 - val_mean_absolute_error: 872.2642\n",
      "Epoch 29/100\n",
      "7/7 [==============================] - 0s 7ms/step - loss: 376067.2812 - mean_absolute_error: 560.0662 - val_loss: 709471.8125 - val_mean_absolute_error: 839.0381\n",
      "Epoch 30/100\n",
      "7/7 [==============================] - 0s 7ms/step - loss: 339037.5312 - mean_absolute_error: 526.5941 - val_loss: 653608.7500 - val_mean_absolute_error: 805.0602\n",
      "Epoch 31/100\n",
      "7/7 [==============================] - 0s 7ms/step - loss: 303996.1875 - mean_absolute_error: 492.2399 - val_loss: 598426.9375 - val_mean_absolute_error: 770.0262\n",
      "Epoch 32/100\n",
      "7/7 [==============================] - 0s 7ms/step - loss: 270238.1562 - mean_absolute_error: 456.9035 - val_loss: 544247.3750 - val_mean_absolute_error: 734.0031\n",
      "Epoch 33/100\n",
      "7/7 [==============================] - 0s 7ms/step - loss: 238267.0781 - mean_absolute_error: 421.0070 - val_loss: 487512.5625 - val_mean_absolute_error: 694.2786\n",
      "Epoch 34/100\n",
      "7/7 [==============================] - 0s 8ms/step - loss: 205005.2969 - mean_absolute_error: 383.3267 - val_loss: 432794.5938 - val_mean_absolute_error: 653.6738\n",
      "Epoch 35/100\n",
      "7/7 [==============================] - 0s 8ms/step - loss: 174632.0469 - mean_absolute_error: 345.8135 - val_loss: 378952.5625 - val_mean_absolute_error: 611.1185\n",
      "Epoch 36/100\n",
      "7/7 [==============================] - 0s 8ms/step - loss: 150109.3438 - mean_absolute_error: 314.8623 - val_loss: 334787.7812 - val_mean_absolute_error: 573.8475\n",
      "Epoch 37/100\n",
      "7/7 [==============================] - 0s 7ms/step - loss: 129633.9141 - mean_absolute_error: 286.3290 - val_loss: 294483.6250 - val_mean_absolute_error: 537.5842\n",
      "Epoch 38/100\n",
      "7/7 [==============================] - 0s 8ms/step - loss: 112373.5312 - mean_absolute_error: 264.3266 - val_loss: 258775.4062 - val_mean_absolute_error: 503.2779\n",
      "Epoch 39/100\n",
      "7/7 [==============================] - 0s 7ms/step - loss: 98099.2969 - mean_absolute_error: 244.0351 - val_loss: 228049.1250 - val_mean_absolute_error: 471.7653\n",
      "Epoch 40/100\n",
      "7/7 [==============================] - 0s 8ms/step - loss: 87797.7812 - mean_absolute_error: 229.0970 - val_loss: 201161.2188 - val_mean_absolute_error: 442.3510\n",
      "Epoch 41/100\n",
      "7/7 [==============================] - 0s 7ms/step - loss: 79266.6562 - mean_absolute_error: 217.6861 - val_loss: 178894.3438 - val_mean_absolute_error: 416.4223\n",
      "Epoch 42/100\n",
      "7/7 [==============================] - 0s 7ms/step - loss: 73658.0547 - mean_absolute_error: 212.2954 - val_loss: 160067.1250 - val_mean_absolute_error: 393.1671\n",
      "Epoch 43/100\n",
      "7/7 [==============================] - 0s 7ms/step - loss: 69339.1484 - mean_absolute_error: 207.1629 - val_loss: 145340.4375 - val_mean_absolute_error: 373.9702\n",
      "Epoch 44/100\n",
      "7/7 [==============================] - 0s 7ms/step - loss: 66592.5469 - mean_absolute_error: 203.8117 - val_loss: 133210.8125 - val_mean_absolute_error: 357.3851\n",
      "Epoch 45/100\n",
      "7/7 [==============================] - 0s 7ms/step - loss: 64564.9844 - mean_absolute_error: 200.6209 - val_loss: 124403.2891 - val_mean_absolute_error: 344.8428\n",
      "Epoch 46/100\n",
      "7/7 [==============================] - 0s 7ms/step - loss: 63635.6133 - mean_absolute_error: 199.3038 - val_loss: 116950.7500 - val_mean_absolute_error: 333.8622\n",
      "Epoch 47/100\n",
      "7/7 [==============================] - 0s 7ms/step - loss: 68264.4297 - mean_absolute_error: 205.9486 - val_loss: 160034.8750 - val_mean_absolute_error: 393.1262\n",
      "Epoch 48/100\n",
      "7/7 [==============================] - 0s 7ms/step - loss: 69690.3516 - mean_absolute_error: 206.7877 - val_loss: 150579.7500 - val_mean_absolute_error: 380.9171\n",
      "Epoch 49/100\n",
      "7/7 [==============================] - 0s 7ms/step - loss: 67254.9688 - mean_absolute_error: 204.0011 - val_loss: 139658.4531 - val_mean_absolute_error: 366.2965\n",
      "Epoch 50/100\n",
      "7/7 [==============================] - 0s 7ms/step - loss: 65522.4023 - mean_absolute_error: 202.1002 - val_loss: 128136.3203 - val_mean_absolute_error: 350.2137\n",
      "Epoch 51/100\n",
      "7/7 [==============================] - 0s 7ms/step - loss: 63981.8984 - mean_absolute_error: 199.8624 - val_loss: 119612.3984 - val_mean_absolute_error: 337.8252\n",
      "Epoch 52/100\n",
      "7/7 [==============================] - 0s 8ms/step - loss: 62757.6875 - mean_absolute_error: 198.0429 - val_loss: 114571.4688 - val_mean_absolute_error: 330.3247\n",
      "Epoch 53/100\n",
      "7/7 [==============================] - 0s 7ms/step - loss: 61899.5781 - mean_absolute_error: 198.8253 - val_loss: 118850.5312 - val_mean_absolute_error: 336.6858\n",
      "Epoch 54/100\n",
      "7/7 [==============================] - 0s 7ms/step - loss: 61436.3438 - mean_absolute_error: 198.3939 - val_loss: 112112.9375 - val_mean_absolute_error: 326.6949\n",
      "Epoch 55/100\n",
      "7/7 [==============================] - 0s 7ms/step - loss: 59976.9648 - mean_absolute_error: 196.4490 - val_loss: 102185.2188 - val_mean_absolute_error: 311.0734\n",
      "Epoch 56/100\n",
      "7/7 [==============================] - 0s 8ms/step - loss: 59221.5117 - mean_absolute_error: 195.9199 - val_loss: 98544.5703 - val_mean_absolute_error: 305.1760\n",
      "Epoch 57/100\n",
      "7/7 [==============================] - 0s 8ms/step - loss: 58414.2695 - mean_absolute_error: 194.7458 - val_loss: 96243.8906 - val_mean_absolute_error: 301.4302\n",
      "Epoch 58/100\n",
      "7/7 [==============================] - 0s 8ms/step - loss: 57979.3203 - mean_absolute_error: 195.2182 - val_loss: 103900.9375 - val_mean_absolute_error: 314.1201\n",
      "Epoch 59/100\n",
      "7/7 [==============================] - 0s 8ms/step - loss: 57283.2070 - mean_absolute_error: 193.0252 - val_loss: 92418.9766 - val_mean_absolute_error: 294.9988\n",
      "Epoch 60/100\n",
      "7/7 [==============================] - 0s 8ms/step - loss: 56583.5977 - mean_absolute_error: 192.1823 - val_loss: 89114.2891 - val_mean_absolute_error: 289.3854\n",
      "Epoch 61/100\n",
      "7/7 [==============================] - 0s 7ms/step - loss: 56627.7461 - mean_absolute_error: 194.0356 - val_loss: 86371.7578 - val_mean_absolute_error: 284.5756\n",
      "Epoch 62/100\n",
      "7/7 [==============================] - 0s 7ms/step - loss: 53872.1289 - mean_absolute_error: 186.4418 - val_loss: 92818.0625 - val_mean_absolute_error: 295.9781\n",
      "Epoch 63/100\n",
      "7/7 [==============================] - 0s 7ms/step - loss: 51896.6914 - mean_absolute_error: 181.1664 - val_loss: 83123.5469 - val_mean_absolute_error: 278.9598\n",
      "Epoch 64/100\n",
      "7/7 [==============================] - 0s 7ms/step - loss: 51657.5820 - mean_absolute_error: 182.8752 - val_loss: 84140.2578 - val_mean_absolute_error: 281.0577\n",
      "Epoch 65/100\n",
      "7/7 [==============================] - 0s 7ms/step - loss: 50712.6016 - mean_absolute_error: 181.2032 - val_loss: 76869.8828 - val_mean_absolute_error: 267.5138\n",
      "Epoch 66/100\n",
      "7/7 [==============================] - 0s 7ms/step - loss: 51277.8047 - mean_absolute_error: 183.8709 - val_loss: 79916.4141 - val_mean_absolute_error: 273.6598\n",
      "Epoch 67/100\n",
      "7/7 [==============================] - 0s 7ms/step - loss: 47920.0195 - mean_absolute_error: 175.1916 - val_loss: 72871.2422 - val_mean_absolute_error: 260.1207\n",
      "Epoch 68/100\n",
      "7/7 [==============================] - 0s 7ms/step - loss: 47127.3789 - mean_absolute_error: 175.0854 - val_loss: 76189.0312 - val_mean_absolute_error: 267.0130\n",
      "Epoch 69/100\n",
      "7/7 [==============================] - 0s 7ms/step - loss: 45225.7109 - mean_absolute_error: 169.2493 - val_loss: 65986.2969 - val_mean_absolute_error: 246.5760\n",
      "Epoch 70/100\n",
      "7/7 [==============================] - 0s 7ms/step - loss: 43699.9414 - mean_absolute_error: 166.6145 - val_loss: 66431.3672 - val_mean_absolute_error: 247.8615\n",
      "Epoch 71/100\n",
      "7/7 [==============================] - 0s 8ms/step - loss: 42565.7500 - mean_absolute_error: 165.0091 - val_loss: 67786.0078 - val_mean_absolute_error: 250.8738\n",
      "Epoch 72/100\n",
      "7/7 [==============================] - 0s 8ms/step - loss: 41116.5430 - mean_absolute_error: 161.6212 - val_loss: 68194.8438 - val_mean_absolute_error: 251.4959\n",
      "Epoch 73/100\n",
      "7/7 [==============================] - 0s 8ms/step - loss: 39938.2227 - mean_absolute_error: 158.7535 - val_loss: 58708.6211 - val_mean_absolute_error: 231.9492\n",
      "Epoch 74/100\n",
      "7/7 [==============================] - 0s 7ms/step - loss: 39691.6992 - mean_absolute_error: 158.6395 - val_loss: 54772.0469 - val_mean_absolute_error: 223.1470\n",
      "Epoch 75/100\n",
      "7/7 [==============================] - 0s 7ms/step - loss: 37625.6914 - mean_absolute_error: 152.3733 - val_loss: 51341.6953 - val_mean_absolute_error: 215.2119\n",
      "Epoch 76/100\n",
      "7/7 [==============================] - 0s 7ms/step - loss: 37079.9258 - mean_absolute_error: 152.3081 - val_loss: 50866.0508 - val_mean_absolute_error: 214.2295\n",
      "Epoch 77/100\n",
      "7/7 [==============================] - 0s 7ms/step - loss: 36039.8711 - mean_absolute_error: 149.9570 - val_loss: 51065.1133 - val_mean_absolute_error: 215.0783\n",
      "Epoch 78/100\n",
      "7/7 [==============================] - 0s 6ms/step - loss: 35397.4258 - mean_absolute_error: 148.6498 - val_loss: 54537.6602 - val_mean_absolute_error: 223.5504\n",
      "Epoch 79/100\n",
      "7/7 [==============================] - 0s 7ms/step - loss: 37458.9062 - mean_absolute_error: 155.3185 - val_loss: 47839.2266 - val_mean_absolute_error: 207.6574\n",
      "Epoch 80/100\n",
      "7/7 [==============================] - 0s 8ms/step - loss: 34633.5195 - mean_absolute_error: 146.2682 - val_loss: 45150.8906 - val_mean_absolute_error: 200.8073\n",
      "Epoch 81/100\n",
      "7/7 [==============================] - 0s 8ms/step - loss: 33542.3867 - mean_absolute_error: 144.0529 - val_loss: 39591.3633 - val_mean_absolute_error: 185.9726\n",
      "Epoch 82/100\n",
      "7/7 [==============================] - 0s 7ms/step - loss: 33134.9297 - mean_absolute_error: 142.8810 - val_loss: 43822.9609 - val_mean_absolute_error: 197.8410\n",
      "Epoch 83/100\n",
      "7/7 [==============================] - 0s 7ms/step - loss: 32619.9922 - mean_absolute_error: 140.9244 - val_loss: 38636.3828 - val_mean_absolute_error: 183.8020\n",
      "Epoch 84/100\n",
      "7/7 [==============================] - 0s 7ms/step - loss: 32045.8945 - mean_absolute_error: 140.2550 - val_loss: 36513.3789 - val_mean_absolute_error: 177.8548\n",
      "Epoch 85/100\n",
      "7/7 [==============================] - 0s 7ms/step - loss: 31170.3828 - mean_absolute_error: 138.4016 - val_loss: 41963.8594 - val_mean_absolute_error: 193.7435\n",
      "Epoch 86/100\n",
      "7/7 [==============================] - 0s 7ms/step - loss: 31490.8945 - mean_absolute_error: 139.0747 - val_loss: 34540.0234 - val_mean_absolute_error: 172.4059\n",
      "Epoch 87/100\n",
      "7/7 [==============================] - 0s 7ms/step - loss: 30696.1328 - mean_absolute_error: 136.4288 - val_loss: 30412.5391 - val_mean_absolute_error: 159.2509\n",
      "Epoch 88/100\n",
      "7/7 [==============================] - 0s 8ms/step - loss: 31084.5293 - mean_absolute_error: 140.2458 - val_loss: 47123.2500 - val_mean_absolute_error: 207.4540\n",
      "Epoch 89/100\n",
      "7/7 [==============================] - 0s 7ms/step - loss: 30438.8203 - mean_absolute_error: 136.2081 - val_loss: 30436.7129 - val_mean_absolute_error: 159.8065\n",
      "Epoch 90/100\n",
      "7/7 [==============================] - 0s 7ms/step - loss: 29585.2852 - mean_absolute_error: 133.6600 - val_loss: 30168.6133 - val_mean_absolute_error: 159.0151\n",
      "Epoch 91/100\n",
      "7/7 [==============================] - 0s 8ms/step - loss: 29080.8105 - mean_absolute_error: 133.1630 - val_loss: 45764.8555 - val_mean_absolute_error: 204.3975\n",
      "Epoch 92/100\n",
      "7/7 [==============================] - 0s 8ms/step - loss: 31398.0215 - mean_absolute_error: 141.3441 - val_loss: 24921.4082 - val_mean_absolute_error: 140.3165\n",
      "Epoch 93/100\n",
      "7/7 [==============================] - 0s 8ms/step - loss: 30750.0684 - mean_absolute_error: 138.7253 - val_loss: 35360.5039 - val_mean_absolute_error: 176.1422\n",
      "Epoch 94/100\n",
      "7/7 [==============================] - 0s 7ms/step - loss: 29284.3809 - mean_absolute_error: 135.6198 - val_loss: 28896.0117 - val_mean_absolute_error: 155.4354\n",
      "Epoch 95/100\n",
      "7/7 [==============================] - 0s 7ms/step - loss: 28337.9609 - mean_absolute_error: 130.2292 - val_loss: 26433.6074 - val_mean_absolute_error: 146.6287\n",
      "Epoch 96/100\n",
      "7/7 [==============================] - 0s 7ms/step - loss: 27589.6094 - mean_absolute_error: 128.9066 - val_loss: 28616.3242 - val_mean_absolute_error: 154.7969\n",
      "Epoch 97/100\n",
      "7/7 [==============================] - 0s 7ms/step - loss: 26864.3359 - mean_absolute_error: 125.8186 - val_loss: 27076.4629 - val_mean_absolute_error: 149.6438\n",
      "Epoch 98/100\n",
      "7/7 [==============================] - 0s 7ms/step - loss: 26547.6562 - mean_absolute_error: 124.9961 - val_loss: 27151.5332 - val_mean_absolute_error: 150.0690\n",
      "Epoch 99/100\n",
      "7/7 [==============================] - 0s 7ms/step - loss: 26187.5176 - mean_absolute_error: 123.7502 - val_loss: 23956.2773 - val_mean_absolute_error: 138.4228\n",
      "Epoch 100/100\n",
      "7/7 [==============================] - 0s 8ms/step - loss: 25327.0410 - mean_absolute_error: 121.3897 - val_loss: 23909.6895 - val_mean_absolute_error: 138.5406\n"
     ]
    },
    {
     "data": {
      "text/plain": [
       "<keras.callbacks.History at 0x20d7dd82430>"
      ]
     },
     "execution_count": 32,
     "metadata": {},
     "output_type": "execute_result"
    }
   ],
   "source": [
    "from tensorflow.keras.models import Sequential\n",
    "from tensorflow.keras.optimizers import Adam\n",
    "from tensorflow.keras import layers\n",
    "\n",
    "model = Sequential([layers.Input((3, 1)),\n",
    "                   layers.LSTM(64),\n",
    "                   layers.Dense(32, activation='relu'),\n",
    "                   layers.Dense(32, activation='relu'),\n",
    "                   layers.Dense(1)])\n",
    "\n",
    "model.compile(loss='mse',\n",
    "             optimizer=Adam(learning_rate=0.001),\n",
    "             metrics=['mean_absolute_error'])\n",
    "\n",
    "model.fit(X_train, y_train, validation_data=(X_val, y_val), epochs=100)"
   ]
  },
  {
   "cell_type": "code",
   "execution_count": 33,
   "id": "fe039954-e2b8-4244-8356-a1a29c486495",
   "metadata": {},
   "outputs": [
    {
     "name": "stdout",
     "output_type": "stream",
     "text": [
      "7/7 [==============================] - 0s 3ms/step\n"
     ]
    },
    {
     "data": {
      "text/plain": [
       "<matplotlib.legend.Legend at 0x20d7047cd00>"
      ]
     },
     "execution_count": 33,
     "metadata": {},
     "output_type": "execute_result"
    },
    {
     "data": {
      "image/png": "[encoded data removed]",
      "text/plain": [
       "<Figure size 432x288 with 1 Axes>"
      ]
     },
     "metadata": {
      "needs_background": "light"
     },
     "output_type": "display_data"
    }
   ],
   "source": [
    "train_predictions = model.predict(X_train).flatten()\n",
    "\n",
    "plt.plot(dates_train, train_predictions)\n",
    "plt.plot(dates_train, y_train)\n",
    "plt.xticks(rotation=45)\n",
    "plt.legend(['Training Predictions', 'Training Observations'])"
   ]
  },
  {
   "cell_type": "code",
   "execution_count": 34,
   "id": "9cd6f02e-82d7-4cfa-8a77-3885ce7aabf8",
   "metadata": {},
   "outputs": [
    {
     "data": {
      "text/html": [
       "<div>\n",
       "<style scoped>\n",
       "    .dataframe tbody tr th:only-of-type {\n",
       "        vertical-align: middle;\n",
       "    }\n",
       "\n",
       "    .dataframe tbody tr th {\n",
       "        vertical-align: top;\n",
       "    }\n",
       "\n",
       "    .dataframe thead th {\n",
       "        text-align: right;\n",
       "    }\n",
       "</style>\n",
       "<table border=\"1\" class=\"dataframe\">\n",
       "  <thead>\n",
       "    <tr style=\"text-align: right;\">\n",
       "      <th></th>\n",
       "      <th>Date</th>\n",
       "      <th>Target(Close)</th>\n",
       "      <th>Prediction</th>\n",
       "    </tr>\n",
       "  </thead>\n",
       "  <tbody>\n",
       "    <tr>\n",
       "      <th>0</th>\n",
       "      <td>2021-04-30</td>\n",
       "      <td>972.0</td>\n",
       "      <td>892.689270</td>\n",
       "    </tr>\n",
       "    <tr>\n",
       "      <th>1</th>\n",
       "      <td>2021-05-01</td>\n",
       "      <td>972.0</td>\n",
       "      <td>958.433777</td>\n",
       "    </tr>\n",
       "    <tr>\n",
       "      <th>2</th>\n",
       "      <td>2021-05-03</td>\n",
       "      <td>972.0</td>\n",
       "      <td>979.901428</td>\n",
       "    </tr>\n",
       "    <tr>\n",
       "      <th>3</th>\n",
       "      <td>2021-05-06</td>\n",
       "      <td>972.0</td>\n",
       "      <td>979.947510</td>\n",
       "    </tr>\n",
       "    <tr>\n",
       "      <th>4</th>\n",
       "      <td>2021-05-07</td>\n",
       "      <td>972.0</td>\n",
       "      <td>979.947510</td>\n",
       "    </tr>\n",
       "    <tr>\n",
       "      <th>...</th>\n",
       "      <td>...</td>\n",
       "      <td>...</td>\n",
       "      <td>...</td>\n",
       "    </tr>\n",
       "    <tr>\n",
       "      <th>199</th>\n",
       "      <td>2022-02-12</td>\n",
       "      <td>1188.0</td>\n",
       "      <td>1060.614380</td>\n",
       "    </tr>\n",
       "    <tr>\n",
       "      <th>200</th>\n",
       "      <td>2022-02-14</td>\n",
       "      <td>1188.0</td>\n",
       "      <td>1064.354858</td>\n",
       "    </tr>\n",
       "    <tr>\n",
       "      <th>201</th>\n",
       "      <td>2022-02-15</td>\n",
       "      <td>1188.0</td>\n",
       "      <td>1064.362793</td>\n",
       "    </tr>\n",
       "    <tr>\n",
       "      <th>202</th>\n",
       "      <td>2022-02-17</td>\n",
       "      <td>1134.0</td>\n",
       "      <td>1064.362793</td>\n",
       "    </tr>\n",
       "    <tr>\n",
       "      <th>203</th>\n",
       "      <td>2022-02-18</td>\n",
       "      <td>1188.0</td>\n",
       "      <td>1054.403809</td>\n",
       "    </tr>\n",
       "  </tbody>\n",
       "</table>\n",
       "<p>204 rows × 3 columns</p>\n",
       "</div>"
      ],
      "text/plain": [
       "          Date  Target(Close)   Prediction\n",
       "0   2021-04-30          972.0   892.689270\n",
       "1   2021-05-01          972.0   958.433777\n",
       "2   2021-05-03          972.0   979.901428\n",
       "3   2021-05-06          972.0   979.947510\n",
       "4   2021-05-07          972.0   979.947510\n",
       "..         ...            ...          ...\n",
       "199 2022-02-12         1188.0  1060.614380\n",
       "200 2022-02-14         1188.0  1064.354858\n",
       "201 2022-02-15         1188.0  1064.362793\n",
       "202 2022-02-17         1134.0  1064.362793\n",
       "203 2022-02-18         1188.0  1054.403809\n",
       "\n",
       "[204 rows x 3 columns]"
      ]
     },
     "execution_count": 34,
     "metadata": {},
     "output_type": "execute_result"
    }
   ],
   "source": [
    "pd.DataFrame({'Date':dates[:q_80], 'Target(Close)':y_train,'Prediction':train_predictions})"
   ]
  },
  {
   "cell_type": "code",
   "execution_count": 35,
   "id": "7631e9a4-953e-4067-bc4d-ba224bf6b0a7",
   "metadata": {},
   "outputs": [
    {
     "name": "stdout",
     "output_type": "stream",
     "text": [
      "1/1 [==============================] - 0s 16ms/step\n"
     ]
    },
    {
     "data": {
      "text/plain": [
       "<matplotlib.legend.Legend at 0x20d70530250>"
      ]
     },
     "execution_count": 35,
     "metadata": {},
     "output_type": "execute_result"
    },
    {
     "data": {
      "image/png": "[encoded data removed]",
      "text/plain": [
       "<Figure size 432x288 with 1 Axes>"
      ]
     },
     "metadata": {
      "needs_background": "light"
     },
     "output_type": "display_data"
    }
   ],
   "source": [
    "val_predictions = model.predict(X_val).flatten()\n",
    "\n",
    "plt.plot(dates_val, val_predictions)\n",
    "plt.plot(dates_val, y_val)\n",
    "plt.xticks(rotation=45)\n",
    "plt.legend(['Validation Predictions', 'Validation Observations'])"
   ]
  },
  {
   "cell_type": "code",
   "execution_count": 36,
   "id": "25dc56f3-881e-4684-8e8d-d6d5760706ed",
   "metadata": {},
   "outputs": [
    {
     "name": "stdout",
     "output_type": "stream",
     "text": [
      "1/1 [==============================] - 0s 16ms/step\n"
     ]
    },
    {
     "data": {
      "text/plain": [
       "<matplotlib.legend.Legend at 0x20d7f5a5fd0>"
      ]
     },
     "execution_count": 36,
     "metadata": {},
     "output_type": "execute_result"
    },
    {
     "data": {
      "image/png": "[encoded data removed]",
      "text/plain": [
       "<Figure size 432x288 with 1 Axes>"
      ]
     },
     "metadata": {
      "needs_background": "light"
     },
     "output_type": "display_data"
    }
   ],
   "source": [
    "test_predictions = model.predict(X_test).flatten()\n",
    "\n",
    "plt.plot(dates_test, test_predictions)\n",
    "plt.plot(dates_test, y_test)\n",
    "plt.xticks(rotation=45)\n",
    "plt.legend(['Testing Predictions','Testing Observations'])"
   ]
  },
  {
   "cell_type": "code",
   "execution_count": 37,
   "id": "e45e7b09-75c8-4147-bcd8-58629db814f6",
   "metadata": {},
   "outputs": [
    {
     "data": {
      "text/plain": [
       "<matplotlib.legend.Legend at 0x20d7f69e250>"
      ]
     },
     "execution_count": 37,
     "metadata": {},
     "output_type": "execute_result"
    },
    {
     "data": {
      "image/png": "[encoded data removed]",
      "text/plain": [
       "<Figure size 432x288 with 1 Axes>"
      ]
     },
     "metadata": {
      "needs_background": "light"
     },
     "output_type": "display_data"
    }
   ],
   "source": [
    "plt.plot(dates_train, train_predictions)\n",
    "plt.plot(dates_train, y_train)\n",
    "plt.plot(dates_val, val_predictions)\n",
    "plt.plot(dates_val, y_val)\n",
    "plt.plot(dates_test, test_predictions)\n",
    "plt.plot(dates_test, y_test)\n",
    "plt.legend(['Training Predictions',\n",
    "           'Training Observations',\n",
    "           'Validation Predictions',\n",
    "           'Validation Observations',\n",
    "           'Testing Predictions',\n",
    "           'Testing Observations'])"
   ]
  },
  {
   "cell_type": "code",
   "execution_count": 38,
   "id": "88958ae5-1fe6-4508-a1df-96c27cdd32b3",
   "metadata": {},
   "outputs": [],
   "source": [
    "from copy import deepcopy"
   ]
  },
  {
   "cell_type": "code",
   "execution_count": 39,
   "id": "0b27b2b6-6785-42c3-94b3-26de4a9b4bd8",
   "metadata": {},
   "outputs": [
    {
     "name": "stdout",
     "output_type": "stream",
     "text": [
      "1/1 [==============================] - 0s 16ms/step\n",
      "1/1 [==============================] - 0s 17ms/step\n",
      "1/1 [==============================] - 0s 18ms/step\n",
      "1/1 [==============================] - 0s 16ms/step\n",
      "1/1 [==============================] - 0s 31ms/step\n",
      "1/1 [==============================] - 0s 18ms/step\n",
      "1/1 [==============================] - 0s 16ms/step\n",
      "1/1 [==============================] - 0s 16ms/step\n",
      "1/1 [==============================] - 0s 24ms/step\n",
      "1/1 [==============================] - 0s 17ms/step\n",
      "1/1 [==============================] - 0s 16ms/step\n",
      "1/1 [==============================] - 0s 16ms/step\n",
      "1/1 [==============================] - 0s 21ms/step\n",
      "1/1 [==============================] - 0s 24ms/step\n",
      "1/1 [==============================] - 0s 16ms/step\n",
      "1/1 [==============================] - 0s 16ms/step\n",
      "1/1 [==============================] - 0s 20ms/step\n",
      "1/1 [==============================] - 0s 17ms/step\n",
      "1/1 [==============================] - 0s 22ms/step\n",
      "1/1 [==============================] - 0s 26ms/step\n",
      "1/1 [==============================] - 0s 25ms/step\n",
      "1/1 [==============================] - 0s 16ms/step\n",
      "1/1 [==============================] - 0s 16ms/step\n",
      "1/1 [==============================] - 0s 17ms/step\n",
      "1/1 [==============================] - 0s 17ms/step\n",
      "1/1 [==============================] - 0s 16ms/step\n",
      "1/1 [==============================] - 0s 16ms/step\n",
      "1/1 [==============================] - 0s 16ms/step\n",
      "1/1 [==============================] - 0s 16ms/step\n",
      "1/1 [==============================] - 0s 16ms/step\n",
      "1/1 [==============================] - 0s 16ms/step\n",
      "1/1 [==============================] - 0s 16ms/step\n",
      "1/1 [==============================] - 0s 16ms/step\n",
      "1/1 [==============================] - 0s 16ms/step\n",
      "1/1 [==============================] - 0s 16ms/step\n",
      "1/1 [==============================] - 0s 16ms/step\n",
      "1/1 [==============================] - 0s 16ms/step\n",
      "1/1 [==============================] - 0s 24ms/step\n",
      "1/1 [==============================] - 0s 13ms/step\n",
      "1/1 [==============================] - 0s 24ms/step\n",
      "1/1 [==============================] - 0s 16ms/step\n",
      "1/1 [==============================] - 0s 25ms/step\n",
      "1/1 [==============================] - 0s 25ms/step\n",
      "1/1 [==============================] - 0s 25ms/step\n",
      "1/1 [==============================] - 0s 25ms/step\n",
      "1/1 [==============================] - 0s 25ms/step\n",
      "1/1 [==============================] - 0s 24ms/step\n",
      "1/1 [==============================] - 0s 16ms/step\n",
      "1/1 [==============================] - 0s 16ms/step\n",
      "1/1 [==============================] - 0s 17ms/step\n",
      "1/1 [==============================] - 0s 16ms/step\n"
     ]
    }
   ],
   "source": [
    "recursive_predictions = []\n",
    "recursive_dates = np.concatenate([dates_val, dates_test])\n",
    "\n",
    "for target_date in recursive_dates:\n",
    "    last_window = deepcopy(X_train[-1])\n",
    "    next_prediction = model.predict(np.array([last_window])).flatten()\n",
    "    recursive_predictions.append(next_prediction)\n",
    "    last_window[-1] = next_prediction"
   ]
  },
  {
   "cell_type": "code",
   "execution_count": 40,
   "id": "d78f78fe-38b2-466a-8c5a-48fa24cd564a",
   "metadata": {},
   "outputs": [
    {
     "data": {
      "text/plain": [
       "<matplotlib.legend.Legend at 0x20d7f6f9bb0>"
      ]
     },
     "execution_count": 40,
     "metadata": {},
     "output_type": "execute_result"
    },
    {
     "data": {
      "image/png": "[encoded data removed]",
      "text/plain": [
       "<Figure size 432x288 with 1 Axes>"
      ]
     },
     "metadata": {
      "needs_background": "light"
     },
     "output_type": "display_data"
    }
   ],
   "source": [
    "plt.plot(dates_train, train_predictions)\n",
    "plt.plot(dates_train, y_train)\n",
    "plt.plot(dates_val, val_predictions)\n",
    "plt.plot(dates_val, y_val)\n",
    "plt.plot(dates_test, test_predictions)\n",
    "plt.plot(dates_test, y_test)\n",
    "plt.plot(recursive_dates, recursive_predictions)\n",
    "plt.legend(['Training Predictions',\n",
    "           'Training Observations',\n",
    "           'Validation Predictions',\n",
    "           'Validation Observations',\n",
    "           'Testing Predictions',\n",
    "           'Testing Observations',\n",
    "           'Recursive Predictions'])"
   ]
  }
 ],
 "metadata": {
  "kernelspec": {
   "display_name": "Python 3 (ipykernel)",
   "language": "python",
   "name": "python3"
  },
  "language_info": {
   "codemirror_mode": {
    "name": "ipython",
    "version": 3
   },
   "file_extension": ".py",
   "mimetype": "text/x-python",
   "name": "python",
   "nbconvert_exporter": "python",
   "pygments_lexer": "ipython3",
   "version": "3.9.13"
  }
 },
 "nbformat": 4,
 "nbformat_minor": 5
}
